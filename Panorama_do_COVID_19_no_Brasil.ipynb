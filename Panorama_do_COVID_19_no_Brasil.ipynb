{
  "nbformat": 4,
  "nbformat_minor": 0,
  "metadata": {
    "colab": {
      "name": "Panorama do COVID-19 no Brasil.ipynb",
      "provenance": [],
      "collapsed_sections": [],
      "include_colab_link": true
    },
    "kernelspec": {
      "name": "python3",
      "display_name": "Python 3"
    }
  },
  "cells": [
    {
      "cell_type": "markdown",
      "metadata": {
        "id": "view-in-github",
        "colab_type": "text"
      },
      "source": [
        "<a href=\"https://colab.research.google.com/github/miguelsmachado/data_science/blob/master/Panorama_do_COVID_19_no_Brasil.ipynb\" target=\"_parent\"><img src=\"https://colab.research.google.com/assets/colab-badge.svg\" alt=\"Open In Colab\"/></a>"
      ]
    },
    {
      "cell_type": "markdown",
      "metadata": {
        "id": "-eFQZydM9O9J",
        "colab_type": "text"
      },
      "source": [
        "![alt text](https://github.com/miguelsmachado/py_projects/blob/master/banner.png?raw=true)\n",
        "\n",
        "#### **Data Science na Prática 2.0**\n",
        "*by [Miguel S. Machado](https://www.linkedin.com/in/miguel-s-machado/)*\n",
        "\n",
        "---\n",
        "  "
      ]
    },
    {
      "cell_type": "markdown",
      "metadata": {
        "id": "kLI0gJtzDGuQ",
        "colab_type": "text"
      },
      "source": [
        "# Panorama do COVID-19 no Brasil\n",
        "\n",
        "COVID-19 é uma doença infecciosa causada por recém-descoberto coronavírus.\n",
        "\n",
        "Transmitido principalmente por meio de gotículas provenientes de tosses ou espirros de pessoas infectadas, a gravidade dos sintomas varia muito de pessoa para pessoa.\n",
        "\n",
        "Fato é, não se sabe muita coisa a respeito do COVID-19. Estudos estão sendo realizados no mundo todo, porém os resultados ainda não são conclusivos e definitivos.\n",
        "\n",
        "<center><img alt=\"Colaboratory logo\" width=\"50%\" src=\"https://raw.githubusercontent.com/carlosfab/dsnp2/master/img/covid19.jpg\"></center>\n",
        "\n",
        "Até o presente momento, observa-se que cerca de 80% dos casos confirmados são assintomáticos e rápidos. A maioria das pessoas que se encaixam nesse grupo, se recupera sem nenhuma sequela.\n",
        "\n",
        "No entanto, 15% das pessoas terão infecções graves e precisarão de oxigênio. O restante das pessoas, que representam 5%, serão classificadas como infecções muito graves e precisarão de ventilação assistida, por meio de respiradores mecânicos em ambiente hospitalar.\n",
        "\n",
        "Com o objetivo de elevar a consciência situacional a respeito do COVID-19 no Brasil, irei realizar uma análise sobre os dados públicos da doença."
      ]
    },
    {
      "cell_type": "markdown",
      "metadata": {
        "id": "0zxQHhIUDF_2",
        "colab_type": "text"
      },
      "source": [
        "## Obtenção dos Dados\n",
        "\n",
        "Antes de falarmos sobre a obtenção dos dados, é muito importante entender que estamos vivendo um momento impar da nossa geração. Muitos de nós não estavam preparados para um evento como esse. Dessa forma, muitas fontes de dados também não conseguem acompanhar o ritmo da doença. E isso não é um problema só do Brasil. Podemos dizer que o mundo está despadronizado em relação aos processos de análise e geração de dados. Cada lugar usa um procedimento diferente, alguma fontes são oficiais, outras não, e ainda temos os poblemas políticos sobre a disponibilização de dados em alguns paises.\n",
        "\n",
        "Feito essa introdução, ainda antes de falarmos dos dados, é importante entender que estamos escolhendo uma fonte e analisando os seus levantamentos até o dia de hoje (16 de junho de 2020). Podem haver diferenças entre outras fontes de dados.\n",
        "\n",
        "Nós utilzaremos os dados disponilizados pela [Our World in Data](https://ourworldindata.org).\n",
        "\n",
        "\"Our World In Data (Nosso Mundo em Dados, em tradução literal) é uma publicação digital especializada em expor pesquisas empíricas e dados analíticos sobre mudanças nas condições de qualidade de vida ao redor do mundo. A publicação especializa-se em criar visualizações de dados interativas, principalmente gráficos e mapas, além de análises críticas sobre o que impulsiona o desenvolvimento, os fatores que levam as mudanças observadas e suas consequências no mundo.\" *Wikipedia*\n",
        "\n",
        "\n",
        "### Dicionário de Variáveis\n",
        "Para que possa ser melhor compreendido o significado do nosso DataSet, vamos dar uma olhada o que significa cada coluna:\n",
        "\n",
        "Coluna|Descrição|\n",
        "------|---------|\n",
        "`iso_code`|ISO 3166-1 alpha-3 – código dos países\n",
        "`continent`|Continente do país\n",
        "`location`|Localização geográfica\n",
        "`date`|Data da observação\n",
        "`total_cases`|Total de casos confirmados de COVID-19\n",
        "`new_cases`|Novos casos confirmados de COVID-19\n",
        "`total_deaths`|Total de mortes atribuídas ao COVID-19\n",
        "`new_deaths`|Novas mortes atribuídas ao COVID-19\n",
        "`total_cases_per_million`|Total de casos confirmados de COVID-19 por 1.000.000 de pessoas\n",
        "`new_cases_per_million`|Novos casos confirmados de COVID-19 por 1.000.000 de pessoas\n",
        "`total_deaths_per_million`|Total de mortes atribuídas ao COVID-19 por 1.000.000 de pessoas\n",
        "`new_deaths_per_million`|Novas mortes atribuídas ao COVID-19 por 1.000.000 de pessoas\n",
        "`total_tests`|Total de testes para COVID-19\n",
        "`new_tests`|Novos testes para COVID-19\n",
        "`new_tests_smoothed`|Novos testes para COVID-19 (Aproximado dos últimos 7 dias).<br> Para países que não reportam diariamentes seus testes à base ,<br>de dados nós assumimos que os valores mantém um padrão<br> durante o período em que não foram reportados.\n",
        "`total_tests_per_thousand`|Total de testes para COVID-19 para cada 1.000 pessoas\n",
        "`new_tests_per_thousand`|Novos testes para COVID-19 para cada 1.000 pessoas\n",
        "`new_tests_smoothed_per_thousand`|Novos testes para COVID-19 (proximado dos últimos 7 dias),<br> para cada 1.000 pessoas\n",
        "`tests_units`|Unidade usada pelo país para reportar os dados dos teste\n",
        "`stringency_index`|Índice de Estresse da Resposta do Governo: medida composta baseada em 9<br> indicadores de resposta, incluindo fechamento de escolas, fechamento de<br> locais de trabalho e proibições de viagens, redimensionados para um valor <br>de 0 a 100 (100 = resposta mais estrita)\n",
        "`population`|População em 2020\n",
        "`population_density`|Número de habitantes divido pela áerea do país, medido em kilometros quadrados\n",
        "`median_age`|Idade média da população\n",
        "`aged_65_older`|Porcentagem da população acima de 65 anos\n",
        "`aged_70_older`|Porcentagem da população acima de 70 anos\n",
        "`gdp_per_capita`|Produto interno bruto em relação ao poder de compra\n",
        "`extreme_poverty`|Porcentagem do população que vive em extrema pobreza\n",
        "`cvd_death_rate`|Taxa de mortes por doenças cardiovascular em 2017\n",
        "`diabetes_prevalence`|Diabéticos (% da população entre 20 e 79 anos) em 2017\n",
        "`female_smokers`|Porcentagem de mulheres que fumam\n",
        "`male_smokers`|Porcentagem de homens que fumam\n",
        "`handwashing_facilities`|Porcentagem da população com saneamento básico mínimo para lavar as mãos\n",
        "`hospital_beds_per_thousand`|Leitos hospitalares para cada 1.000 pessoas\n",
        "`life_expectancy`|Expectativa de vida em 2019\n",
        "\n",
        "### Importando os dados do COVID-19\n",
        "\n",
        "Iniciaremos nosso estudo fazendo as importações das bibliotecas necessárias e lendo o nosso dataset do portal *Our World in Data*"
      ]
    },
    {
      "cell_type": "code",
      "metadata": {
        "id": "lOtEJxe0DMEb",
        "colab_type": "code",
        "colab": {}
      },
      "source": [
        "# importar as bibliotecas necessárias\n",
        "import pandas as pd\n",
        "import matplotlib.pyplot as plt\n",
        "import seaborn as sns\n",
        "import numpy as np\n",
        "\n",
        "\n",
        "# importar o dataset COVID-19 para um DataaFrame\n",
        "df = pd.read_csv(\"https://raw.githubusercontent.com/owid/covid-19-data/master/public/data/owid-covid-data.csv\")"
      ],
      "execution_count": 168,
      "outputs": []
    },
    {
      "cell_type": "markdown",
      "metadata": {
        "id": "RpxWtwrqMhBc",
        "colab_type": "text"
      },
      "source": [
        "##Análise inicial do conjunto de dados\n",
        "\n",
        "Antes de iniciar qualquer análise, vamos ver alguns dados básicos quanto ao tamanho, tipo de variáveis e % de dados faltantes."
      ]
    },
    {
      "cell_type": "markdown",
      "metadata": {
        "id": "k_zz9DXv0g_M",
        "colab_type": "text"
      },
      "source": [
        "Vamos fazer uma leitura inical para ver se nossa importação está correta e como é o nosso DataFrame"
      ]
    },
    {
      "cell_type": "code",
      "metadata": {
        "id": "NqlwBAUEKiWJ",
        "colab_type": "code",
        "colab": {
          "base_uri": "https://localhost:8080/",
          "height": 309
        },
        "outputId": "929e9a7d-bc4c-41e4-f879-8291634dcbf9"
      },
      "source": [
        "df.head()"
      ],
      "execution_count": 8,
      "outputs": [
        {
          "output_type": "execute_result",
          "data": {
            "text/html": [
              "<div>\n",
              "<style scoped>\n",
              "    .dataframe tbody tr th:only-of-type {\n",
              "        vertical-align: middle;\n",
              "    }\n",
              "\n",
              "    .dataframe tbody tr th {\n",
              "        vertical-align: top;\n",
              "    }\n",
              "\n",
              "    .dataframe thead th {\n",
              "        text-align: right;\n",
              "    }\n",
              "</style>\n",
              "<table border=\"1\" class=\"dataframe\">\n",
              "  <thead>\n",
              "    <tr style=\"text-align: right;\">\n",
              "      <th></th>\n",
              "      <th>iso_code</th>\n",
              "      <th>continent</th>\n",
              "      <th>location</th>\n",
              "      <th>date</th>\n",
              "      <th>total_cases</th>\n",
              "      <th>new_cases</th>\n",
              "      <th>total_deaths</th>\n",
              "      <th>new_deaths</th>\n",
              "      <th>total_cases_per_million</th>\n",
              "      <th>new_cases_per_million</th>\n",
              "      <th>total_deaths_per_million</th>\n",
              "      <th>new_deaths_per_million</th>\n",
              "      <th>total_tests</th>\n",
              "      <th>new_tests</th>\n",
              "      <th>total_tests_per_thousand</th>\n",
              "      <th>new_tests_per_thousand</th>\n",
              "      <th>new_tests_smoothed</th>\n",
              "      <th>new_tests_smoothed_per_thousand</th>\n",
              "      <th>tests_units</th>\n",
              "      <th>stringency_index</th>\n",
              "      <th>population</th>\n",
              "      <th>population_density</th>\n",
              "      <th>median_age</th>\n",
              "      <th>aged_65_older</th>\n",
              "      <th>aged_70_older</th>\n",
              "      <th>gdp_per_capita</th>\n",
              "      <th>extreme_poverty</th>\n",
              "      <th>cvd_death_rate</th>\n",
              "      <th>diabetes_prevalence</th>\n",
              "      <th>female_smokers</th>\n",
              "      <th>male_smokers</th>\n",
              "      <th>handwashing_facilities</th>\n",
              "      <th>hospital_beds_per_thousand</th>\n",
              "      <th>life_expectancy</th>\n",
              "    </tr>\n",
              "  </thead>\n",
              "  <tbody>\n",
              "    <tr>\n",
              "      <th>0</th>\n",
              "      <td>AFG</td>\n",
              "      <td>Asia</td>\n",
              "      <td>Afghanistan</td>\n",
              "      <td>2019-12-31</td>\n",
              "      <td>0.0</td>\n",
              "      <td>0.0</td>\n",
              "      <td>0.0</td>\n",
              "      <td>0.0</td>\n",
              "      <td>0.0</td>\n",
              "      <td>0.0</td>\n",
              "      <td>0.0</td>\n",
              "      <td>0.0</td>\n",
              "      <td>NaN</td>\n",
              "      <td>NaN</td>\n",
              "      <td>NaN</td>\n",
              "      <td>NaN</td>\n",
              "      <td>NaN</td>\n",
              "      <td>NaN</td>\n",
              "      <td>NaN</td>\n",
              "      <td>NaN</td>\n",
              "      <td>38928341.0</td>\n",
              "      <td>54.422</td>\n",
              "      <td>18.6</td>\n",
              "      <td>2.581</td>\n",
              "      <td>1.337</td>\n",
              "      <td>1803.987</td>\n",
              "      <td>NaN</td>\n",
              "      <td>597.029</td>\n",
              "      <td>9.59</td>\n",
              "      <td>NaN</td>\n",
              "      <td>NaN</td>\n",
              "      <td>37.746</td>\n",
              "      <td>0.5</td>\n",
              "      <td>64.83</td>\n",
              "    </tr>\n",
              "    <tr>\n",
              "      <th>1</th>\n",
              "      <td>AFG</td>\n",
              "      <td>Asia</td>\n",
              "      <td>Afghanistan</td>\n",
              "      <td>2020-01-01</td>\n",
              "      <td>0.0</td>\n",
              "      <td>0.0</td>\n",
              "      <td>0.0</td>\n",
              "      <td>0.0</td>\n",
              "      <td>0.0</td>\n",
              "      <td>0.0</td>\n",
              "      <td>0.0</td>\n",
              "      <td>0.0</td>\n",
              "      <td>NaN</td>\n",
              "      <td>NaN</td>\n",
              "      <td>NaN</td>\n",
              "      <td>NaN</td>\n",
              "      <td>NaN</td>\n",
              "      <td>NaN</td>\n",
              "      <td>NaN</td>\n",
              "      <td>0.0</td>\n",
              "      <td>38928341.0</td>\n",
              "      <td>54.422</td>\n",
              "      <td>18.6</td>\n",
              "      <td>2.581</td>\n",
              "      <td>1.337</td>\n",
              "      <td>1803.987</td>\n",
              "      <td>NaN</td>\n",
              "      <td>597.029</td>\n",
              "      <td>9.59</td>\n",
              "      <td>NaN</td>\n",
              "      <td>NaN</td>\n",
              "      <td>37.746</td>\n",
              "      <td>0.5</td>\n",
              "      <td>64.83</td>\n",
              "    </tr>\n",
              "    <tr>\n",
              "      <th>2</th>\n",
              "      <td>AFG</td>\n",
              "      <td>Asia</td>\n",
              "      <td>Afghanistan</td>\n",
              "      <td>2020-01-02</td>\n",
              "      <td>0.0</td>\n",
              "      <td>0.0</td>\n",
              "      <td>0.0</td>\n",
              "      <td>0.0</td>\n",
              "      <td>0.0</td>\n",
              "      <td>0.0</td>\n",
              "      <td>0.0</td>\n",
              "      <td>0.0</td>\n",
              "      <td>NaN</td>\n",
              "      <td>NaN</td>\n",
              "      <td>NaN</td>\n",
              "      <td>NaN</td>\n",
              "      <td>NaN</td>\n",
              "      <td>NaN</td>\n",
              "      <td>NaN</td>\n",
              "      <td>0.0</td>\n",
              "      <td>38928341.0</td>\n",
              "      <td>54.422</td>\n",
              "      <td>18.6</td>\n",
              "      <td>2.581</td>\n",
              "      <td>1.337</td>\n",
              "      <td>1803.987</td>\n",
              "      <td>NaN</td>\n",
              "      <td>597.029</td>\n",
              "      <td>9.59</td>\n",
              "      <td>NaN</td>\n",
              "      <td>NaN</td>\n",
              "      <td>37.746</td>\n",
              "      <td>0.5</td>\n",
              "      <td>64.83</td>\n",
              "    </tr>\n",
              "    <tr>\n",
              "      <th>3</th>\n",
              "      <td>AFG</td>\n",
              "      <td>Asia</td>\n",
              "      <td>Afghanistan</td>\n",
              "      <td>2020-01-03</td>\n",
              "      <td>0.0</td>\n",
              "      <td>0.0</td>\n",
              "      <td>0.0</td>\n",
              "      <td>0.0</td>\n",
              "      <td>0.0</td>\n",
              "      <td>0.0</td>\n",
              "      <td>0.0</td>\n",
              "      <td>0.0</td>\n",
              "      <td>NaN</td>\n",
              "      <td>NaN</td>\n",
              "      <td>NaN</td>\n",
              "      <td>NaN</td>\n",
              "      <td>NaN</td>\n",
              "      <td>NaN</td>\n",
              "      <td>NaN</td>\n",
              "      <td>0.0</td>\n",
              "      <td>38928341.0</td>\n",
              "      <td>54.422</td>\n",
              "      <td>18.6</td>\n",
              "      <td>2.581</td>\n",
              "      <td>1.337</td>\n",
              "      <td>1803.987</td>\n",
              "      <td>NaN</td>\n",
              "      <td>597.029</td>\n",
              "      <td>9.59</td>\n",
              "      <td>NaN</td>\n",
              "      <td>NaN</td>\n",
              "      <td>37.746</td>\n",
              "      <td>0.5</td>\n",
              "      <td>64.83</td>\n",
              "    </tr>\n",
              "    <tr>\n",
              "      <th>4</th>\n",
              "      <td>AFG</td>\n",
              "      <td>Asia</td>\n",
              "      <td>Afghanistan</td>\n",
              "      <td>2020-01-04</td>\n",
              "      <td>0.0</td>\n",
              "      <td>0.0</td>\n",
              "      <td>0.0</td>\n",
              "      <td>0.0</td>\n",
              "      <td>0.0</td>\n",
              "      <td>0.0</td>\n",
              "      <td>0.0</td>\n",
              "      <td>0.0</td>\n",
              "      <td>NaN</td>\n",
              "      <td>NaN</td>\n",
              "      <td>NaN</td>\n",
              "      <td>NaN</td>\n",
              "      <td>NaN</td>\n",
              "      <td>NaN</td>\n",
              "      <td>NaN</td>\n",
              "      <td>0.0</td>\n",
              "      <td>38928341.0</td>\n",
              "      <td>54.422</td>\n",
              "      <td>18.6</td>\n",
              "      <td>2.581</td>\n",
              "      <td>1.337</td>\n",
              "      <td>1803.987</td>\n",
              "      <td>NaN</td>\n",
              "      <td>597.029</td>\n",
              "      <td>9.59</td>\n",
              "      <td>NaN</td>\n",
              "      <td>NaN</td>\n",
              "      <td>37.746</td>\n",
              "      <td>0.5</td>\n",
              "      <td>64.83</td>\n",
              "    </tr>\n",
              "  </tbody>\n",
              "</table>\n",
              "</div>"
            ],
            "text/plain": [
              "  iso_code continent  ... hospital_beds_per_thousand life_expectancy\n",
              "0      AFG      Asia  ...                        0.5           64.83\n",
              "1      AFG      Asia  ...                        0.5           64.83\n",
              "2      AFG      Asia  ...                        0.5           64.83\n",
              "3      AFG      Asia  ...                        0.5           64.83\n",
              "4      AFG      Asia  ...                        0.5           64.83\n",
              "\n",
              "[5 rows x 34 columns]"
            ]
          },
          "metadata": {
            "tags": []
          },
          "execution_count": 8
        }
      ]
    },
    {
      "cell_type": "code",
      "metadata": {
        "id": "thXDxRgr10H-",
        "colab_type": "code",
        "colab": {
          "base_uri": "https://localhost:8080/",
          "height": 34
        },
        "outputId": "a5348b92-c7bf-478f-a8db-68d809bb47c4"
      },
      "source": [
        "print(f\"O nosso DataFrame possui {df.shape[0]} entradas e {df.shape[1]} colunas\")"
      ],
      "execution_count": 4,
      "outputs": [
        {
          "output_type": "stream",
          "text": [
            "O nosso DataFrame possui 24443 entradas e 34 colunas\n"
          ],
          "name": "stdout"
        }
      ]
    },
    {
      "cell_type": "code",
      "metadata": {
        "id": "lIbF5aw-2NcZ",
        "colab_type": "code",
        "colab": {
          "base_uri": "https://localhost:8080/",
          "height": 221
        },
        "outputId": "c01afe52-b801-4bf4-b877-15c455c2bb2e"
      },
      "source": [
        "df.columns"
      ],
      "execution_count": 5,
      "outputs": [
        {
          "output_type": "execute_result",
          "data": {
            "text/plain": [
              "Index(['iso_code', 'continent', 'location', 'date', 'total_cases', 'new_cases',\n",
              "       'total_deaths', 'new_deaths', 'total_cases_per_million',\n",
              "       'new_cases_per_million', 'total_deaths_per_million',\n",
              "       'new_deaths_per_million', 'total_tests', 'new_tests',\n",
              "       'total_tests_per_thousand', 'new_tests_per_thousand',\n",
              "       'new_tests_smoothed', 'new_tests_smoothed_per_thousand', 'tests_units',\n",
              "       'stringency_index', 'population', 'population_density', 'median_age',\n",
              "       'aged_65_older', 'aged_70_older', 'gdp_per_capita', 'extreme_poverty',\n",
              "       'cvd_death_rate', 'diabetes_prevalence', 'female_smokers',\n",
              "       'male_smokers', 'handwashing_facilities', 'hospital_beds_per_thousand',\n",
              "       'life_expectancy'],\n",
              "      dtype='object')"
            ]
          },
          "metadata": {
            "tags": []
          },
          "execution_count": 5
        }
      ]
    },
    {
      "cell_type": "markdown",
      "metadata": {
        "id": "Wxgtq2gS2W03",
        "colab_type": "text"
      },
      "source": [
        "Nosso dataframe possui quase 25.000 entradas, essas entradas estão dividadas por países e por dia. Vamos calcular quantas localizações são estudadas:"
      ]
    },
    {
      "cell_type": "code",
      "metadata": {
        "id": "gD0iT0NK2vqD",
        "colab_type": "code",
        "colab": {
          "base_uri": "https://localhost:8080/",
          "height": 833
        },
        "outputId": "05cbd774-5191-4ae9-8300-8abd028ebb09"
      },
      "source": [
        "print(\"Abaixo podemos ver todos os países estudados nesse DataFrame:\\n\")\n",
        "df['location'].unique()"
      ],
      "execution_count": 15,
      "outputs": [
        {
          "output_type": "stream",
          "text": [
            "Abaixo podemos ver todos os países estudados nesse DataFrame:\n",
            "\n"
          ],
          "name": "stdout"
        },
        {
          "output_type": "execute_result",
          "data": {
            "text/plain": [
              "array(['Afghanistan', 'Albania', 'Algeria', 'Andorra', 'Angola',\n",
              "       'Anguilla', 'Antigua and Barbuda', 'Argentina', 'Armenia', 'Aruba',\n",
              "       'Australia', 'Austria', 'Azerbaijan', 'Bahamas', 'Bahrain',\n",
              "       'Bangladesh', 'Barbados', 'Belarus', 'Belgium', 'Belize', 'Benin',\n",
              "       'Bermuda', 'Bhutan', 'Bolivia', 'Bonaire Sint Eustatius and Saba',\n",
              "       'Bosnia and Herzegovina', 'Botswana', 'Brazil',\n",
              "       'British Virgin Islands', 'Brunei', 'Bulgaria', 'Burkina Faso',\n",
              "       'Burundi', 'Cambodia', 'Cameroon', 'Canada', 'Cape Verde',\n",
              "       'Cayman Islands', 'Central African Republic', 'Chad', 'Chile',\n",
              "       'China', 'Colombia', 'Comoros', 'Congo', 'Costa Rica',\n",
              "       \"Cote d'Ivoire\", 'Croatia', 'Cuba', 'Curacao', 'Cyprus',\n",
              "       'Czech Republic', 'Democratic Republic of Congo', 'Denmark',\n",
              "       'Djibouti', 'Dominica', 'Dominican Republic', 'Ecuador', 'Egypt',\n",
              "       'El Salvador', 'Equatorial Guinea', 'Eritrea', 'Estonia',\n",
              "       'Ethiopia', 'Faeroe Islands', 'Falkland Islands', 'Fiji',\n",
              "       'Finland', 'France', 'French Polynesia', 'Gabon', 'Gambia',\n",
              "       'Georgia', 'Germany', 'Ghana', 'Gibraltar', 'Greece', 'Greenland',\n",
              "       'Grenada', 'Guam', 'Guatemala', 'Guernsey', 'Guinea',\n",
              "       'Guinea-Bissau', 'Guyana', 'Haiti', 'Honduras', 'Hong Kong',\n",
              "       'Hungary', 'Iceland', 'India', 'Indonesia', 'Iran', 'Iraq',\n",
              "       'Ireland', 'Isle of Man', 'Israel', 'Italy', 'Jamaica', 'Japan',\n",
              "       'Jersey', 'Jordan', 'Kazakhstan', 'Kenya', 'Kosovo', 'Kuwait',\n",
              "       'Kyrgyzstan', 'Laos', 'Latvia', 'Lebanon', 'Lesotho', 'Liberia',\n",
              "       'Libya', 'Liechtenstein', 'Lithuania', 'Luxembourg', 'Macedonia',\n",
              "       'Madagascar', 'Malawi', 'Malaysia', 'Maldives', 'Mali', 'Malta',\n",
              "       'Mauritania', 'Mauritius', 'Mexico', 'Moldova', 'Monaco',\n",
              "       'Mongolia', 'Montenegro', 'Montserrat', 'Morocco', 'Mozambique',\n",
              "       'Myanmar', 'Namibia', 'Nepal', 'Netherlands', 'New Caledonia',\n",
              "       'New Zealand', 'Nicaragua', 'Niger', 'Nigeria',\n",
              "       'Northern Mariana Islands', 'Norway', 'Oman', 'Pakistan',\n",
              "       'Palestine', 'Panama', 'Papua New Guinea', 'Paraguay', 'Peru',\n",
              "       'Philippines', 'Poland', 'Portugal', 'Puerto Rico', 'Qatar',\n",
              "       'Romania', 'Russia', 'Rwanda', 'Saint Kitts and Nevis',\n",
              "       'Saint Lucia', 'Saint Vincent and the Grenadines', 'San Marino',\n",
              "       'Sao Tome and Principe', 'Saudi Arabia', 'Senegal', 'Serbia',\n",
              "       'Seychelles', 'Sierra Leone', 'Singapore',\n",
              "       'Sint Maarten (Dutch part)', 'Slovakia', 'Slovenia', 'Somalia',\n",
              "       'South Africa', 'South Korea', 'South Sudan', 'Spain', 'Sri Lanka',\n",
              "       'Sudan', 'Suriname', 'Swaziland', 'Sweden', 'Switzerland', 'Syria',\n",
              "       'Taiwan', 'Tajikistan', 'Tanzania', 'Thailand', 'Timor', 'Togo',\n",
              "       'Trinidad and Tobago', 'Tunisia', 'Turkey',\n",
              "       'Turks and Caicos Islands', 'Uganda', 'Ukraine',\n",
              "       'United Arab Emirates', 'United Kingdom', 'United States',\n",
              "       'United States Virgin Islands', 'Uruguay', 'Uzbekistan', 'Vatican',\n",
              "       'Venezuela', 'Vietnam', 'Western Sahara', 'Yemen', 'Zambia',\n",
              "       'Zimbabwe', 'World', 'International'], dtype=object)"
            ]
          },
          "metadata": {
            "tags": []
          },
          "execution_count": 15
        }
      ]
    },
    {
      "cell_type": "code",
      "metadata": {
        "id": "wJxu3dXQ3Xps",
        "colab_type": "code",
        "colab": {
          "base_uri": "https://localhost:8080/",
          "height": 34
        },
        "outputId": "e9bbeab7-87fe-4f4d-e14e-3384dcc23adb"
      },
      "source": [
        "# Vamos subtrair 2 nessa conta, pois 'International' e 'World' não são paises\n",
        "print(f\"O DataFrame estuda {len(df['location'].unique()) - 2} diferentes localizações.\")"
      ],
      "execution_count": 18,
      "outputs": [
        {
          "output_type": "stream",
          "text": [
            "O DataFrame estuda 210 diferentes localizações.\n"
          ],
          "name": "stdout"
        }
      ]
    },
    {
      "cell_type": "markdown",
      "metadata": {
        "id": "x9Cg_0Mc9tOD",
        "colab_type": "text"
      },
      "source": [
        "Agora vamos fazer uma análise mais técnica e ver quais os tipos de dados que temos:"
      ]
    },
    {
      "cell_type": "code",
      "metadata": {
        "id": "rimVwcpl91Me",
        "colab_type": "code",
        "colab": {
          "base_uri": "https://localhost:8080/",
          "height": 612
        },
        "outputId": "f8cb9721-7e75-4e0b-d459-8c42ac0d7ff6"
      },
      "source": [
        "df.dtypes"
      ],
      "execution_count": 22,
      "outputs": [
        {
          "output_type": "execute_result",
          "data": {
            "text/plain": [
              "iso_code                            object\n",
              "continent                           object\n",
              "location                            object\n",
              "date                                object\n",
              "total_cases                        float64\n",
              "new_cases                          float64\n",
              "total_deaths                       float64\n",
              "new_deaths                         float64\n",
              "total_cases_per_million            float64\n",
              "new_cases_per_million              float64\n",
              "total_deaths_per_million           float64\n",
              "new_deaths_per_million             float64\n",
              "total_tests                        float64\n",
              "new_tests                          float64\n",
              "total_tests_per_thousand           float64\n",
              "new_tests_per_thousand             float64\n",
              "new_tests_smoothed                 float64\n",
              "new_tests_smoothed_per_thousand    float64\n",
              "tests_units                         object\n",
              "stringency_index                   float64\n",
              "population                         float64\n",
              "population_density                 float64\n",
              "median_age                         float64\n",
              "aged_65_older                      float64\n",
              "aged_70_older                      float64\n",
              "gdp_per_capita                     float64\n",
              "extreme_poverty                    float64\n",
              "cvd_death_rate                     float64\n",
              "diabetes_prevalence                float64\n",
              "female_smokers                     float64\n",
              "male_smokers                       float64\n",
              "handwashing_facilities             float64\n",
              "hospital_beds_per_thousand         float64\n",
              "life_expectancy                    float64\n",
              "dtype: object"
            ]
          },
          "metadata": {
            "tags": []
          },
          "execution_count": 22
        }
      ]
    },
    {
      "cell_type": "markdown",
      "metadata": {
        "id": "8OG68Eg09-W6",
        "colab_type": "text"
      },
      "source": [
        "Agora vamos ver, quantos desses dados são nulos:"
      ]
    },
    {
      "cell_type": "code",
      "metadata": {
        "id": "K5gI69RJ-Er6",
        "colab_type": "code",
        "colab": {
          "base_uri": "https://localhost:8080/",
          "height": 646
        },
        "outputId": "3a465598-7b93-4076-ff60-10c048946aea"
      },
      "source": [
        "print(\"Porcentagem de dados nulos:\\n\")\n",
        "round(df.isnull().sum().sort_values(ascending=False)/df.shape[0] * 100, 2)"
      ],
      "execution_count": 30,
      "outputs": [
        {
          "output_type": "stream",
          "text": [
            "Porcentagem de dados nulos:\n",
            "\n"
          ],
          "name": "stdout"
        },
        {
          "output_type": "execute_result",
          "data": {
            "text/plain": [
              "new_tests                          75.68\n",
              "new_tests_per_thousand             75.68\n",
              "total_tests_per_thousand           72.91\n",
              "total_tests                        72.91\n",
              "new_tests_smoothed_per_thousand    70.65\n",
              "new_tests_smoothed                 70.65\n",
              "tests_units                        68.15\n",
              "handwashing_facilities             59.57\n",
              "extreme_poverty                    40.20\n",
              "male_smokers                       27.88\n",
              "female_smokers                     27.05\n",
              "stringency_index                   20.50\n",
              "hospital_beds_per_thousand         16.95\n",
              "aged_65_older                      10.75\n",
              "gdp_per_capita                     10.47\n",
              "aged_70_older                       9.95\n",
              "median_age                          9.49\n",
              "cvd_death_rate                      9.40\n",
              "diabetes_prevalence                 6.47\n",
              "population_density                  4.27\n",
              "life_expectancy                     1.38\n",
              "new_deaths_per_million              1.15\n",
              "total_deaths_per_million            1.15\n",
              "new_cases_per_million               1.15\n",
              "total_cases_per_million             1.15\n",
              "continent                           0.96\n",
              "new_deaths                          0.89\n",
              "total_deaths                        0.89\n",
              "new_cases                           0.89\n",
              "total_cases                         0.89\n",
              "population                          0.26\n",
              "iso_code                            0.26\n",
              "date                                0.00\n",
              "location                            0.00\n",
              "dtype: float64"
            ]
          },
          "metadata": {
            "tags": []
          },
          "execution_count": 30
        }
      ]
    },
    {
      "cell_type": "markdown",
      "metadata": {
        "id": "HyJ35-X0_iJy",
        "colab_type": "text"
      },
      "source": [
        "Nosso dateset possui muitos dados faltantes, 8 deles com mais de 50% de dados faltantes.\n",
        "\n",
        "Isso tem que ser análisado com cuidado, pois dependendo do trabalho que formos fazer, o resultado pode ser influênciado por isso. E nessa proporção, devemos ter muita couidado com o procedimento com essa varíavel! É um número muito alto para ser completado com outros valores.\n",
        "\n",
        "Vamos buscar fazer uma análise utilizando os dados que temos mais completos. São esses: os números de casos, os número de mortes, as localizações e as estatísticas populacionais dos países."
      ]
    },
    {
      "cell_type": "markdown",
      "metadata": {
        "id": "qb5By2nIMS6m",
        "colab_type": "text"
      },
      "source": [
        "## Análise dos Dados\n"
      ]
    },
    {
      "cell_type": "markdown",
      "metadata": {
        "id": "cZ_-J67nM16E",
        "colab_type": "text"
      },
      "source": [
        "Antes de iniciar nossa análise, vamos ajustar a coluna date para coloca-la no formato `datetime`do pandas. Isso é muito útil para facilitar a análise em relação ao tempo."
      ]
    },
    {
      "cell_type": "code",
      "metadata": {
        "id": "FqG5QcGRM1U0",
        "colab_type": "code",
        "colab": {}
      },
      "source": [
        "df.date = pd.to_datetime(df.date)"
      ],
      "execution_count": 34,
      "outputs": []
    },
    {
      "cell_type": "markdown",
      "metadata": {
        "id": "p2XAvH6FNU8-",
        "colab_type": "text"
      },
      "source": [
        "Apesar de não ser uma informação agradável, vamos iniciar verificando no dia de hoje quais os países que possuem o maior número de casos."
      ]
    },
    {
      "cell_type": "code",
      "metadata": {
        "id": "6v5DbVm9NPqj",
        "colab_type": "code",
        "colab": {
          "base_uri": "https://localhost:8080/",
          "height": 359
        },
        "outputId": "729eec5b-75c1-47e0-842d-488bdb9aa343"
      },
      "source": [
        "df_reduzido_casos = df[['location', 'total_cases']].loc[df.date == '2020-06-17'].sort_values(by='total_cases',\n",
        "                                                                         ascending=False)[1:].head(10)\n",
        "df_reduzido_casos"
      ],
      "execution_count": 87,
      "outputs": [
        {
          "output_type": "execute_result",
          "data": {
            "text/html": [
              "<div>\n",
              "<style scoped>\n",
              "    .dataframe tbody tr th:only-of-type {\n",
              "        vertical-align: middle;\n",
              "    }\n",
              "\n",
              "    .dataframe tbody tr th {\n",
              "        vertical-align: top;\n",
              "    }\n",
              "\n",
              "    .dataframe thead th {\n",
              "        text-align: right;\n",
              "    }\n",
              "</style>\n",
              "<table border=\"1\" class=\"dataframe\">\n",
              "  <thead>\n",
              "    <tr style=\"text-align: right;\">\n",
              "      <th></th>\n",
              "      <th>location</th>\n",
              "      <th>total_cases</th>\n",
              "    </tr>\n",
              "  </thead>\n",
              "  <tbody>\n",
              "    <tr>\n",
              "      <th>23272</th>\n",
              "      <td>United States</td>\n",
              "      <td>2137731.0</td>\n",
              "    </tr>\n",
              "    <tr>\n",
              "      <th>3320</th>\n",
              "      <td>Brazil</td>\n",
              "      <td>923189.0</td>\n",
              "    </tr>\n",
              "    <tr>\n",
              "      <th>18485</th>\n",
              "      <td>Russia</td>\n",
              "      <td>545458.0</td>\n",
              "    </tr>\n",
              "    <tr>\n",
              "      <th>10321</th>\n",
              "      <td>India</td>\n",
              "      <td>354065.0</td>\n",
              "    </tr>\n",
              "    <tr>\n",
              "      <th>23102</th>\n",
              "      <td>United Kingdom</td>\n",
              "      <td>298136.0</td>\n",
              "    </tr>\n",
              "    <tr>\n",
              "      <th>11420</th>\n",
              "      <td>Italy</td>\n",
              "      <td>237500.0</td>\n",
              "    </tr>\n",
              "    <tr>\n",
              "      <th>17517</th>\n",
              "      <td>Peru</td>\n",
              "      <td>237156.0</td>\n",
              "    </tr>\n",
              "    <tr>\n",
              "      <th>10654</th>\n",
              "      <td>Iran</td>\n",
              "      <td>192439.0</td>\n",
              "    </tr>\n",
              "    <tr>\n",
              "      <th>8594</th>\n",
              "      <td>Germany</td>\n",
              "      <td>187184.0</td>\n",
              "    </tr>\n",
              "    <tr>\n",
              "      <th>4673</th>\n",
              "      <td>Chile</td>\n",
              "      <td>184449.0</td>\n",
              "    </tr>\n",
              "  </tbody>\n",
              "</table>\n",
              "</div>"
            ],
            "text/plain": [
              "             location  total_cases\n",
              "23272   United States    2137731.0\n",
              "3320           Brazil     923189.0\n",
              "18485          Russia     545458.0\n",
              "10321           India     354065.0\n",
              "23102  United Kingdom     298136.0\n",
              "11420           Italy     237500.0\n",
              "17517            Peru     237156.0\n",
              "10654            Iran     192439.0\n",
              "8594          Germany     187184.0\n",
              "4673            Chile     184449.0"
            ]
          },
          "metadata": {
            "tags": []
          },
          "execution_count": 87
        }
      ]
    },
    {
      "cell_type": "markdown",
      "metadata": {
        "id": "__TfiNtiPPA6",
        "colab_type": "text"
      },
      "source": [
        "Vamos analisar esses mesmos dados de uma forma diferente. Vamos ver a porcentagem de casos que cada país tem quando comparado ao mundo todo."
      ]
    },
    {
      "cell_type": "code",
      "metadata": {
        "id": "WjEw_G-fPReM",
        "colab_type": "code",
        "colab": {
          "base_uri": "https://localhost:8080/",
          "height": 80
        },
        "outputId": "1ec4855c-1b52-4d86-a8ea-5718990d1353"
      },
      "source": [
        "df[['location', 'total_cases']].loc[df.date == '2020-06-17'].sort_values(by='total_cases', ascending=False)[:1]"
      ],
      "execution_count": 92,
      "outputs": [
        {
          "output_type": "execute_result",
          "data": {
            "text/html": [
              "<div>\n",
              "<style scoped>\n",
              "    .dataframe tbody tr th:only-of-type {\n",
              "        vertical-align: middle;\n",
              "    }\n",
              "\n",
              "    .dataframe tbody tr th {\n",
              "        vertical-align: top;\n",
              "    }\n",
              "\n",
              "    .dataframe thead th {\n",
              "        text-align: right;\n",
              "    }\n",
              "</style>\n",
              "<table border=\"1\" class=\"dataframe\">\n",
              "  <thead>\n",
              "    <tr style=\"text-align: right;\">\n",
              "      <th></th>\n",
              "      <th>location</th>\n",
              "      <th>total_cases</th>\n",
              "    </tr>\n",
              "  </thead>\n",
              "  <tbody>\n",
              "    <tr>\n",
              "      <th>24378</th>\n",
              "      <td>World</td>\n",
              "      <td>8142129.0</td>\n",
              "    </tr>\n",
              "  </tbody>\n",
              "</table>\n",
              "</div>"
            ],
            "text/plain": [
              "      location  total_cases\n",
              "24378    World    8142129.0"
            ]
          },
          "metadata": {
            "tags": []
          },
          "execution_count": 92
        }
      ]
    },
    {
      "cell_type": "code",
      "metadata": {
        "id": "gO1fv3D1PS4k",
        "colab_type": "code",
        "colab": {
          "base_uri": "https://localhost:8080/",
          "height": 359
        },
        "outputId": "bddf5248-3aea-4dcd-a91e-2c3a72ea80ed"
      },
      "source": [
        "df_reduzido_casos['porcentagem_casos'] = round((df_reduzido['total_cases'] / 8142129) * 100, 2)\n",
        "df_reduzido_casos"
      ],
      "execution_count": 88,
      "outputs": [
        {
          "output_type": "execute_result",
          "data": {
            "text/html": [
              "<div>\n",
              "<style scoped>\n",
              "    .dataframe tbody tr th:only-of-type {\n",
              "        vertical-align: middle;\n",
              "    }\n",
              "\n",
              "    .dataframe tbody tr th {\n",
              "        vertical-align: top;\n",
              "    }\n",
              "\n",
              "    .dataframe thead th {\n",
              "        text-align: right;\n",
              "    }\n",
              "</style>\n",
              "<table border=\"1\" class=\"dataframe\">\n",
              "  <thead>\n",
              "    <tr style=\"text-align: right;\">\n",
              "      <th></th>\n",
              "      <th>location</th>\n",
              "      <th>total_cases</th>\n",
              "      <th>porcentagem_casos</th>\n",
              "    </tr>\n",
              "  </thead>\n",
              "  <tbody>\n",
              "    <tr>\n",
              "      <th>23272</th>\n",
              "      <td>United States</td>\n",
              "      <td>2137731.0</td>\n",
              "      <td>26.26</td>\n",
              "    </tr>\n",
              "    <tr>\n",
              "      <th>3320</th>\n",
              "      <td>Brazil</td>\n",
              "      <td>923189.0</td>\n",
              "      <td>11.34</td>\n",
              "    </tr>\n",
              "    <tr>\n",
              "      <th>18485</th>\n",
              "      <td>Russia</td>\n",
              "      <td>545458.0</td>\n",
              "      <td>6.70</td>\n",
              "    </tr>\n",
              "    <tr>\n",
              "      <th>10321</th>\n",
              "      <td>India</td>\n",
              "      <td>354065.0</td>\n",
              "      <td>4.35</td>\n",
              "    </tr>\n",
              "    <tr>\n",
              "      <th>23102</th>\n",
              "      <td>United Kingdom</td>\n",
              "      <td>298136.0</td>\n",
              "      <td>3.66</td>\n",
              "    </tr>\n",
              "    <tr>\n",
              "      <th>11420</th>\n",
              "      <td>Italy</td>\n",
              "      <td>237500.0</td>\n",
              "      <td>2.92</td>\n",
              "    </tr>\n",
              "    <tr>\n",
              "      <th>17517</th>\n",
              "      <td>Peru</td>\n",
              "      <td>237156.0</td>\n",
              "      <td>2.91</td>\n",
              "    </tr>\n",
              "    <tr>\n",
              "      <th>10654</th>\n",
              "      <td>Iran</td>\n",
              "      <td>192439.0</td>\n",
              "      <td>2.36</td>\n",
              "    </tr>\n",
              "    <tr>\n",
              "      <th>8594</th>\n",
              "      <td>Germany</td>\n",
              "      <td>187184.0</td>\n",
              "      <td>2.30</td>\n",
              "    </tr>\n",
              "    <tr>\n",
              "      <th>4673</th>\n",
              "      <td>Chile</td>\n",
              "      <td>184449.0</td>\n",
              "      <td>2.27</td>\n",
              "    </tr>\n",
              "  </tbody>\n",
              "</table>\n",
              "</div>"
            ],
            "text/plain": [
              "             location  total_cases  porcentagem_casos\n",
              "23272   United States    2137731.0              26.26\n",
              "3320           Brazil     923189.0              11.34\n",
              "18485          Russia     545458.0               6.70\n",
              "10321           India     354065.0               4.35\n",
              "23102  United Kingdom     298136.0               3.66\n",
              "11420           Italy     237500.0               2.92\n",
              "17517            Peru     237156.0               2.91\n",
              "10654            Iran     192439.0               2.36\n",
              "8594          Germany     187184.0               2.30\n",
              "4673            Chile     184449.0               2.27"
            ]
          },
          "metadata": {
            "tags": []
          },
          "execution_count": 88
        }
      ]
    },
    {
      "cell_type": "markdown",
      "metadata": {
        "id": "7KMlYVxrR8uG",
        "colab_type": "text"
      },
      "source": [
        "Com essa nova coluna, fica mais esclarecedor para nós, o quanto significa esse número comparado ao mundo.\n",
        "\n",
        "Vamos fazer o mesmo estudo para o número de mortes:"
      ]
    },
    {
      "cell_type": "code",
      "metadata": {
        "id": "e3cRqn76R8P6",
        "colab_type": "code",
        "colab": {
          "base_uri": "https://localhost:8080/",
          "height": 359
        },
        "outputId": "c0e4e4cd-e9b1-4d8f-ad68-724cd9f1b0cf"
      },
      "source": [
        "df_reduzido_mortes = df[['location', 'total_deaths']].loc[df.date == '2020-06-17'].sort_values(by='total_deaths',\n",
        "                                                                         ascending=False)[1:].head(10)\n",
        "df_reduzido_mortes"
      ],
      "execution_count": 98,
      "outputs": [
        {
          "output_type": "execute_result",
          "data": {
            "text/html": [
              "<div>\n",
              "<style scoped>\n",
              "    .dataframe tbody tr th:only-of-type {\n",
              "        vertical-align: middle;\n",
              "    }\n",
              "\n",
              "    .dataframe tbody tr th {\n",
              "        vertical-align: top;\n",
              "    }\n",
              "\n",
              "    .dataframe thead th {\n",
              "        text-align: right;\n",
              "    }\n",
              "</style>\n",
              "<table border=\"1\" class=\"dataframe\">\n",
              "  <thead>\n",
              "    <tr style=\"text-align: right;\">\n",
              "      <th></th>\n",
              "      <th>location</th>\n",
              "      <th>total_deaths</th>\n",
              "    </tr>\n",
              "  </thead>\n",
              "  <tbody>\n",
              "    <tr>\n",
              "      <th>23272</th>\n",
              "      <td>United States</td>\n",
              "      <td>116963.0</td>\n",
              "    </tr>\n",
              "    <tr>\n",
              "      <th>3320</th>\n",
              "      <td>Brazil</td>\n",
              "      <td>45241.0</td>\n",
              "    </tr>\n",
              "    <tr>\n",
              "      <th>23102</th>\n",
              "      <td>United Kingdom</td>\n",
              "      <td>41969.0</td>\n",
              "    </tr>\n",
              "    <tr>\n",
              "      <th>11420</th>\n",
              "      <td>Italy</td>\n",
              "      <td>34405.0</td>\n",
              "    </tr>\n",
              "    <tr>\n",
              "      <th>7978</th>\n",
              "      <td>France</td>\n",
              "      <td>29547.0</td>\n",
              "    </tr>\n",
              "    <tr>\n",
              "      <th>14570</th>\n",
              "      <td>Mexico</td>\n",
              "      <td>18310.0</td>\n",
              "    </tr>\n",
              "    <tr>\n",
              "      <th>10321</th>\n",
              "      <td>India</td>\n",
              "      <td>11903.0</td>\n",
              "    </tr>\n",
              "    <tr>\n",
              "      <th>2435</th>\n",
              "      <td>Belgium</td>\n",
              "      <td>9663.0</td>\n",
              "    </tr>\n",
              "    <tr>\n",
              "      <th>10654</th>\n",
              "      <td>Iran</td>\n",
              "      <td>9065.0</td>\n",
              "    </tr>\n",
              "    <tr>\n",
              "      <th>8594</th>\n",
              "      <td>Germany</td>\n",
              "      <td>8830.0</td>\n",
              "    </tr>\n",
              "  </tbody>\n",
              "</table>\n",
              "</div>"
            ],
            "text/plain": [
              "             location  total_deaths\n",
              "23272   United States      116963.0\n",
              "3320           Brazil       45241.0\n",
              "23102  United Kingdom       41969.0\n",
              "11420           Italy       34405.0\n",
              "7978           France       29547.0\n",
              "14570          Mexico       18310.0\n",
              "10321           India       11903.0\n",
              "2435          Belgium        9663.0\n",
              "10654            Iran        9065.0\n",
              "8594          Germany        8830.0"
            ]
          },
          "metadata": {
            "tags": []
          },
          "execution_count": 98
        }
      ]
    },
    {
      "cell_type": "code",
      "metadata": {
        "id": "UMCDH_59ULAj",
        "colab_type": "code",
        "colab": {
          "base_uri": "https://localhost:8080/",
          "height": 80
        },
        "outputId": "6a0b8784-e559-498d-d68d-3e5109a764d6"
      },
      "source": [
        "df[['location', 'total_deaths']].loc[df.date == '2020-06-17'].sort_values(by='total_deaths', ascending=False)[:1]"
      ],
      "execution_count": 93,
      "outputs": [
        {
          "output_type": "execute_result",
          "data": {
            "text/html": [
              "<div>\n",
              "<style scoped>\n",
              "    .dataframe tbody tr th:only-of-type {\n",
              "        vertical-align: middle;\n",
              "    }\n",
              "\n",
              "    .dataframe tbody tr th {\n",
              "        vertical-align: top;\n",
              "    }\n",
              "\n",
              "    .dataframe thead th {\n",
              "        text-align: right;\n",
              "    }\n",
              "</style>\n",
              "<table border=\"1\" class=\"dataframe\">\n",
              "  <thead>\n",
              "    <tr style=\"text-align: right;\">\n",
              "      <th></th>\n",
              "      <th>location</th>\n",
              "      <th>total_deaths</th>\n",
              "    </tr>\n",
              "  </thead>\n",
              "  <tbody>\n",
              "    <tr>\n",
              "      <th>24378</th>\n",
              "      <td>World</td>\n",
              "      <td>443488.0</td>\n",
              "    </tr>\n",
              "  </tbody>\n",
              "</table>\n",
              "</div>"
            ],
            "text/plain": [
              "      location  total_deaths\n",
              "24378    World      443488.0"
            ]
          },
          "metadata": {
            "tags": []
          },
          "execution_count": 93
        }
      ]
    },
    {
      "cell_type": "code",
      "metadata": {
        "id": "Uznq565CVm8Q",
        "colab_type": "code",
        "colab": {
          "base_uri": "https://localhost:8080/",
          "height": 51
        },
        "outputId": "5be91610-b4d9-415b-f122-c19aa46146cd"
      },
      "source": [
        "df_reduzido_mortes.total_deaths.loc[df.location == 'France'] / 443488.0"
      ],
      "execution_count": 106,
      "outputs": [
        {
          "output_type": "execute_result",
          "data": {
            "text/plain": [
              "7978    0.066624\n",
              "Name: total_deaths, dtype: float64"
            ]
          },
          "metadata": {
            "tags": []
          },
          "execution_count": 106
        }
      ]
    },
    {
      "cell_type": "code",
      "metadata": {
        "id": "eAWXU6w_UQvm",
        "colab_type": "code",
        "colab": {
          "base_uri": "https://localhost:8080/",
          "height": 359
        },
        "outputId": "de549f13-91c5-4a4e-d475-66bba156b2b4"
      },
      "source": [
        "df_reduzido_mortes['porcentagem_mortes'] = round((df_reduzido_mortes.total_deaths / 443488.0) * 100, 2)\n",
        "df_reduzido_mortes"
      ],
      "execution_count": 112,
      "outputs": [
        {
          "output_type": "execute_result",
          "data": {
            "text/html": [
              "<div>\n",
              "<style scoped>\n",
              "    .dataframe tbody tr th:only-of-type {\n",
              "        vertical-align: middle;\n",
              "    }\n",
              "\n",
              "    .dataframe tbody tr th {\n",
              "        vertical-align: top;\n",
              "    }\n",
              "\n",
              "    .dataframe thead th {\n",
              "        text-align: right;\n",
              "    }\n",
              "</style>\n",
              "<table border=\"1\" class=\"dataframe\">\n",
              "  <thead>\n",
              "    <tr style=\"text-align: right;\">\n",
              "      <th></th>\n",
              "      <th>location</th>\n",
              "      <th>total_deaths</th>\n",
              "      <th>porcentagem_mortes</th>\n",
              "    </tr>\n",
              "  </thead>\n",
              "  <tbody>\n",
              "    <tr>\n",
              "      <th>23272</th>\n",
              "      <td>United States</td>\n",
              "      <td>116963.0</td>\n",
              "      <td>26.37</td>\n",
              "    </tr>\n",
              "    <tr>\n",
              "      <th>3320</th>\n",
              "      <td>Brazil</td>\n",
              "      <td>45241.0</td>\n",
              "      <td>10.20</td>\n",
              "    </tr>\n",
              "    <tr>\n",
              "      <th>23102</th>\n",
              "      <td>United Kingdom</td>\n",
              "      <td>41969.0</td>\n",
              "      <td>9.46</td>\n",
              "    </tr>\n",
              "    <tr>\n",
              "      <th>11420</th>\n",
              "      <td>Italy</td>\n",
              "      <td>34405.0</td>\n",
              "      <td>7.76</td>\n",
              "    </tr>\n",
              "    <tr>\n",
              "      <th>7978</th>\n",
              "      <td>France</td>\n",
              "      <td>29547.0</td>\n",
              "      <td>6.66</td>\n",
              "    </tr>\n",
              "    <tr>\n",
              "      <th>14570</th>\n",
              "      <td>Mexico</td>\n",
              "      <td>18310.0</td>\n",
              "      <td>4.13</td>\n",
              "    </tr>\n",
              "    <tr>\n",
              "      <th>10321</th>\n",
              "      <td>India</td>\n",
              "      <td>11903.0</td>\n",
              "      <td>2.68</td>\n",
              "    </tr>\n",
              "    <tr>\n",
              "      <th>2435</th>\n",
              "      <td>Belgium</td>\n",
              "      <td>9663.0</td>\n",
              "      <td>2.18</td>\n",
              "    </tr>\n",
              "    <tr>\n",
              "      <th>10654</th>\n",
              "      <td>Iran</td>\n",
              "      <td>9065.0</td>\n",
              "      <td>2.04</td>\n",
              "    </tr>\n",
              "    <tr>\n",
              "      <th>8594</th>\n",
              "      <td>Germany</td>\n",
              "      <td>8830.0</td>\n",
              "      <td>1.99</td>\n",
              "    </tr>\n",
              "  </tbody>\n",
              "</table>\n",
              "</div>"
            ],
            "text/plain": [
              "             location  total_deaths  porcentagem_mortes\n",
              "23272   United States      116963.0               26.37\n",
              "3320           Brazil       45241.0               10.20\n",
              "23102  United Kingdom       41969.0                9.46\n",
              "11420           Italy       34405.0                7.76\n",
              "7978           France       29547.0                6.66\n",
              "14570          Mexico       18310.0                4.13\n",
              "10321           India       11903.0                2.68\n",
              "2435          Belgium        9663.0                2.18\n",
              "10654            Iran        9065.0                2.04\n",
              "8594          Germany        8830.0                1.99"
            ]
          },
          "metadata": {
            "tags": []
          },
          "execution_count": 112
        }
      ]
    },
    {
      "cell_type": "markdown",
      "metadata": {
        "id": "rP_YczpQXJEh",
        "colab_type": "text"
      },
      "source": [
        "Para facilitar essa visualização, vamos plotar esses gráficos:"
      ]
    },
    {
      "cell_type": "code",
      "metadata": {
        "id": "ZK3TPD6lXZl_",
        "colab_type": "code",
        "colab": {
          "base_uri": "https://localhost:8080/",
          "height": 441
        },
        "outputId": "d010977f-7abc-4537-adb4-c4a72e5ebbe4"
      },
      "source": [
        "sns.set()\n",
        "fig, ax = plt.subplots(nrows=1, ncols=2, figsize=(16,6))\n",
        "fig.suptitle(\"Covid 19 - Top 5\", fontsize=30)\n",
        "fig.autofmt_xdate()\n",
        "\n",
        "df_reduzido_casos.head(5).plot(x='location', y='total_cases', kind='bar', ax=ax[0])\n",
        "ax[0].set_title(\"Casos\", fontdict={'fontsize':20})\n",
        "ax[0].set_xlabel(\"Países\")\n",
        "ax[0].set_ylabel(\"Número de casos\")\n",
        "\n",
        "df_reduzido_mortes.head(5).plot(x='location', y='total_deaths', kind='bar', ax=ax[1])\n",
        "ax[1].set_title(\"Mortes\", fontdict={'fontsize':20})\n",
        "ax[1].set_xlabel(\"Países\")\n",
        "ax[1].set_ylabel(\"Número de mortes\")\n",
        "\n",
        "plt.tight_layout()"
      ],
      "execution_count": 131,
      "outputs": [
        {
          "output_type": "display_data",
          "data": {
            "image/png": "[encoded data removed]",
            "text/plain": [
              "<Figure size 1152x432 with 2 Axes>"
            ]
          },
          "metadata": {
            "tags": []
          }
        }
      ]
    },
    {
      "cell_type": "markdown",
      "metadata": {
        "id": "tJ-CQ05SatOr",
        "colab_type": "text"
      },
      "source": [
        "Vamos fazer um plot geral para verificar como foi o aumento do número de mortos no mundo todo"
      ]
    },
    {
      "cell_type": "code",
      "metadata": {
        "id": "ezCwMk_ta-iz",
        "colab_type": "code",
        "colab": {
          "base_uri": "https://localhost:8080/",
          "height": 581
        },
        "outputId": "efeaaea0-f343-4324-9310-ae1ff5094525"
      },
      "source": [
        "fig, ax = plt.subplots(figsize=(12,8))\n",
        "\n",
        "df[['location', 'total_deaths', 'date']].loc[df.location == \"World\"].set_index('date').plot(ax=ax)\n",
        "ax.set_title(\"Total de mortes em 2020\", fontsize=20)\n",
        "ax.set_ylabel('Nr de mortes')\n",
        "ax.set_xlabel('')\n",
        "plt.tight_layout()"
      ],
      "execution_count": 144,
      "outputs": [
        {
          "output_type": "display_data",
          "data": {
            "image/png": "[encoded data removed]",
            "text/plain": [
              "<Figure size 864x576 with 1 Axes>"
            ]
          },
          "metadata": {
            "tags": []
          }
        }
      ]
    },
    {
      "cell_type": "markdown",
      "metadata": {
        "id": "VfPKlYyfcZtI",
        "colab_type": "text"
      },
      "source": [
        "Para finalizar nossa análise no nível mundial, vamos tentar entender como se relacionam algumas variáveis:\n",
        "\n",
        "Antes vamoo separar um DataFrame só com as variáveis que nos interessam"
      ]
    },
    {
      "cell_type": "code",
      "metadata": {
        "id": "e0OYKxdDdv-c",
        "colab_type": "code",
        "colab": {
          "base_uri": "https://localhost:8080/",
          "height": 238
        },
        "outputId": "e0979c1b-118e-4b38-ad3c-85dc6fe28395"
      },
      "source": [
        "df_analise = df[['total_deaths', 'aged_65_older', 'aged_70_older',\n",
        "                 'gdp_per_capita', 'extreme_poverty','cvd_death_rate',\n",
        "                 'diabetes_prevalence', 'female_smokers', 'male_smokers',\n",
        "                 'handwashing_facilities', 'hospital_beds_per_thousand',\n",
        "                 'life_expectancy']].loc[df.date == '2020-06-17']\n",
        "(df_analise.isnull().sum().sort_values() / df_analise.shape[0]) * 100"
      ],
      "execution_count": 157,
      "outputs": [
        {
          "output_type": "execute_result",
          "data": {
            "text/plain": [
              "total_deaths                   0.000000\n",
              "life_expectancy                1.435407\n",
              "diabetes_prevalence            8.133971\n",
              "cvd_death_rate                11.483254\n",
              "aged_70_older                 11.961722\n",
              "aged_65_older                 12.918660\n",
              "gdp_per_capita                12.918660\n",
              "hospital_beds_per_thousand    21.531100\n",
              "female_smokers                33.014354\n",
              "male_smokers                  33.971292\n",
              "extreme_poverty               42.105263\n",
              "handwashing_facilities        55.980861\n",
              "dtype: float64"
            ]
          },
          "metadata": {
            "tags": []
          },
          "execution_count": 157
        }
      ]
    },
    {
      "cell_type": "markdown",
      "metadata": {
        "id": "1dWCpp0nihPC",
        "colab_type": "text"
      },
      "source": [
        "Devido ao elevado número de valores nulos em algumas variáveis, vamos optar por não utili-las:\n",
        "`handwashing_facilities` e `extreme_poverty`\n",
        "\n",
        "O restante, vamos excluir os valores nulos e excluir os valor que se referem ao mundo todo:"
      ]
    },
    {
      "cell_type": "code",
      "metadata": {
        "id": "ohEkH7erfAS7",
        "colab_type": "code",
        "colab": {
          "base_uri": "https://localhost:8080/",
          "height": 439
        },
        "outputId": "d3406f8a-219e-4191-f3d9-b9a9be2a2cbf"
      },
      "source": [
        "df_analise = df[['total_deaths', 'aged_65_older', 'aged_70_older',\n",
        "                 'gdp_per_capita','cvd_death_rate',\n",
        "                 'diabetes_prevalence', 'female_smokers', 'male_smokers', \n",
        "                 'hospital_beds_per_thousand',\n",
        "                 'life_expectancy']].loc[df.date == '2020-06-17']\n",
        "\n",
        "df_analise.dropna(inplace=True)\n",
        "\n",
        "df_analise = df_analise.sort_values(by='total_deaths', ascending=False).iloc[1:]\n"
      ],
      "execution_count": 164,
      "outputs": [
        {
          "output_type": "execute_result",
          "data": {
            "text/html": [
              "<div>\n",
              "<style scoped>\n",
              "    .dataframe tbody tr th:only-of-type {\n",
              "        vertical-align: middle;\n",
              "    }\n",
              "\n",
              "    .dataframe tbody tr th {\n",
              "        vertical-align: top;\n",
              "    }\n",
              "\n",
              "    .dataframe thead th {\n",
              "        text-align: right;\n",
              "    }\n",
              "</style>\n",
              "<table border=\"1\" class=\"dataframe\">\n",
              "  <thead>\n",
              "    <tr style=\"text-align: right;\">\n",
              "      <th></th>\n",
              "      <th>total_deaths</th>\n",
              "      <th>aged_65_older</th>\n",
              "      <th>aged_70_older</th>\n",
              "      <th>gdp_per_capita</th>\n",
              "      <th>cvd_death_rate</th>\n",
              "      <th>diabetes_prevalence</th>\n",
              "      <th>female_smokers</th>\n",
              "      <th>male_smokers</th>\n",
              "      <th>hospital_beds_per_thousand</th>\n",
              "      <th>life_expectancy</th>\n",
              "    </tr>\n",
              "  </thead>\n",
              "  <tbody>\n",
              "    <tr>\n",
              "      <th>23272</th>\n",
              "      <td>116963.0</td>\n",
              "      <td>15.413</td>\n",
              "      <td>9.732</td>\n",
              "      <td>54225.446</td>\n",
              "      <td>151.089</td>\n",
              "      <td>10.79</td>\n",
              "      <td>19.1</td>\n",
              "      <td>24.6</td>\n",
              "      <td>2.77</td>\n",
              "      <td>78.86</td>\n",
              "    </tr>\n",
              "    <tr>\n",
              "      <th>3320</th>\n",
              "      <td>45241.0</td>\n",
              "      <td>8.552</td>\n",
              "      <td>5.060</td>\n",
              "      <td>14103.452</td>\n",
              "      <td>177.961</td>\n",
              "      <td>8.11</td>\n",
              "      <td>10.1</td>\n",
              "      <td>17.9</td>\n",
              "      <td>2.20</td>\n",
              "      <td>75.88</td>\n",
              "    </tr>\n",
              "    <tr>\n",
              "      <th>23102</th>\n",
              "      <td>41969.0</td>\n",
              "      <td>18.517</td>\n",
              "      <td>12.527</td>\n",
              "      <td>39753.244</td>\n",
              "      <td>122.137</td>\n",
              "      <td>4.28</td>\n",
              "      <td>20.0</td>\n",
              "      <td>24.7</td>\n",
              "      <td>2.54</td>\n",
              "      <td>81.32</td>\n",
              "    </tr>\n",
              "    <tr>\n",
              "      <th>11420</th>\n",
              "      <td>34405.0</td>\n",
              "      <td>23.021</td>\n",
              "      <td>16.240</td>\n",
              "      <td>35220.084</td>\n",
              "      <td>113.151</td>\n",
              "      <td>4.78</td>\n",
              "      <td>19.8</td>\n",
              "      <td>27.8</td>\n",
              "      <td>3.18</td>\n",
              "      <td>83.51</td>\n",
              "    </tr>\n",
              "    <tr>\n",
              "      <th>7978</th>\n",
              "      <td>29547.0</td>\n",
              "      <td>19.718</td>\n",
              "      <td>13.079</td>\n",
              "      <td>38605.671</td>\n",
              "      <td>86.060</td>\n",
              "      <td>4.77</td>\n",
              "      <td>30.1</td>\n",
              "      <td>35.6</td>\n",
              "      <td>5.98</td>\n",
              "      <td>82.66</td>\n",
              "    </tr>\n",
              "    <tr>\n",
              "      <th>...</th>\n",
              "      <td>...</td>\n",
              "      <td>...</td>\n",
              "      <td>...</td>\n",
              "      <td>...</td>\n",
              "      <td>...</td>\n",
              "      <td>...</td>\n",
              "      <td>...</td>\n",
              "      <td>...</td>\n",
              "      <td>...</td>\n",
              "      <td>...</td>\n",
              "    </tr>\n",
              "    <tr>\n",
              "      <th>22672</th>\n",
              "      <td>0.0</td>\n",
              "      <td>2.168</td>\n",
              "      <td>1.308</td>\n",
              "      <td>1697.707</td>\n",
              "      <td>213.333</td>\n",
              "      <td>2.50</td>\n",
              "      <td>3.4</td>\n",
              "      <td>16.7</td>\n",
              "      <td>0.50</td>\n",
              "      <td>63.37</td>\n",
              "    </tr>\n",
              "    <tr>\n",
              "      <th>3938</th>\n",
              "      <td>0.0</td>\n",
              "      <td>4.412</td>\n",
              "      <td>2.385</td>\n",
              "      <td>3645.070</td>\n",
              "      <td>270.892</td>\n",
              "      <td>4.00</td>\n",
              "      <td>2.0</td>\n",
              "      <td>33.7</td>\n",
              "      <td>0.80</td>\n",
              "      <td>69.82</td>\n",
              "    </tr>\n",
              "    <tr>\n",
              "      <th>7117</th>\n",
              "      <td>0.0</td>\n",
              "      <td>3.607</td>\n",
              "      <td>2.171</td>\n",
              "      <td>1510.459</td>\n",
              "      <td>311.110</td>\n",
              "      <td>6.05</td>\n",
              "      <td>0.2</td>\n",
              "      <td>11.4</td>\n",
              "      <td>0.70</td>\n",
              "      <td>66.32</td>\n",
              "    </tr>\n",
              "    <tr>\n",
              "      <th>22109</th>\n",
              "      <td>0.0</td>\n",
              "      <td>3.556</td>\n",
              "      <td>1.897</td>\n",
              "      <td>6570.102</td>\n",
              "      <td>335.346</td>\n",
              "      <td>6.86</td>\n",
              "      <td>6.3</td>\n",
              "      <td>78.1</td>\n",
              "      <td>5.90</td>\n",
              "      <td>69.50</td>\n",
              "    </tr>\n",
              "    <tr>\n",
              "      <th>12512</th>\n",
              "      <td>0.0</td>\n",
              "      <td>4.029</td>\n",
              "      <td>2.322</td>\n",
              "      <td>6397.360</td>\n",
              "      <td>368.111</td>\n",
              "      <td>4.00</td>\n",
              "      <td>7.3</td>\n",
              "      <td>51.2</td>\n",
              "      <td>1.50</td>\n",
              "      <td>67.92</td>\n",
              "    </tr>\n",
              "  </tbody>\n",
              "</table>\n",
              "<p>125 rows × 10 columns</p>\n",
              "</div>"
            ],
            "text/plain": [
              "       total_deaths  aged_65_older  ...  hospital_beds_per_thousand  life_expectancy\n",
              "23272      116963.0         15.413  ...                        2.77            78.86\n",
              "3320        45241.0          8.552  ...                        2.20            75.88\n",
              "23102       41969.0         18.517  ...                        2.54            81.32\n",
              "11420       34405.0         23.021  ...                        3.18            83.51\n",
              "7978        29547.0         19.718  ...                        5.98            82.66\n",
              "...             ...            ...  ...                         ...              ...\n",
              "22672           0.0          2.168  ...                        0.50            63.37\n",
              "3938            0.0          4.412  ...                        0.80            69.82\n",
              "7117            0.0          3.607  ...                        0.70            66.32\n",
              "22109           0.0          3.556  ...                        5.90            69.50\n",
              "12512           0.0          4.029  ...                        1.50            67.92\n",
              "\n",
              "[125 rows x 10 columns]"
            ]
          },
          "metadata": {
            "tags": []
          },
          "execution_count": 164
        }
      ]
    },
    {
      "cell_type": "markdown",
      "metadata": {
        "id": "7lARN3Kekzsa",
        "colab_type": "text"
      },
      "source": [
        "Primeiramente vamos plotar uma matriz de correlação:"
      ]
    },
    {
      "cell_type": "code",
      "metadata": {
        "id": "bnJWaVQ5jeI3",
        "colab_type": "code",
        "colab": {
          "base_uri": "https://localhost:8080/",
          "height": 869
        },
        "outputId": "11afcc0f-5a9d-42ec-a143-ed21d50dc995"
      },
      "source": [
        "# plotar um heatmap a partir das correlações\n",
        "corr = df_analise.corr()\n",
        "mask = np.zeros_like(corr)\n",
        "mask[np.triu_indices_from(mask)] = True\n",
        "fig, ax = plt.subplots(figsize=(16,12))\n",
        "ax = sns.heatmap(df_analise.corr(), cmap='RdBu', annot=True, linewidths=.5, mask=mask)\n",
        "ax.set_title('Matriz de Correlação', fontsize=24)\n",
        "\n",
        "plt.tight_layout()"
      ],
      "execution_count": 171,
      "outputs": [
        {
          "output_type": "display_data",
          "data": {
            "image/png": "[encoded data removed]",
            "text/plain": [
              "<Figure size 1152x864 with 2 Axes>"
            ]
          },
          "metadata": {
            "tags": []
          }
        }
      ]
    },
    {
      "cell_type": "markdown",
      "metadata": {
        "id": "iYjcaqk5k5Q4",
        "colab_type": "text"
      },
      "source": [
        "E agora, vamos plotar a relação entre os gráficos de distribuição:"
      ]
    },
    {
      "cell_type": "code",
      "metadata": {
        "id": "NF4tnGyJcnFC",
        "colab_type": "code",
        "colab": {
          "base_uri": "https://localhost:8080/",
          "height": 180
        },
        "outputId": "2747d329-da44-4877-eec9-a983afc28da0"
      },
      "source": [
        "ax = sns.pairplot(df_analise, y_vars='total_deaths', x_vars=['aged_65_older', 'aged_70_older',\n",
        "                 'gdp_per_capita','cvd_death_rate',\n",
        "                 'diabetes_prevalence', 'female_smokers', 'male_smokers', \n",
        "                 'hospital_beds_per_thousand',\n",
        "                 'life_expectancy'], kind='reg')\n",
        "ax.fig.suptitle('Dispersão entre as variáveis', fontsize=20, y=1.1)\n",
        "\n",
        "plt.tight_layout()"
      ],
      "execution_count": 176,
      "outputs": [
        {
          "output_type": "display_data",
          "data": {
            "image/png": "[encoded data removed]",
            "text/plain": [
              "<Figure size 1620x180 with 9 Axes>"
            ]
          },
          "metadata": {
            "tags": []
          }
        }
      ]
    },
    {
      "cell_type": "markdown",
      "metadata": {
        "id": "sniErZpal1pH",
        "colab_type": "text"
      },
      "source": [
        "Como podemos ver em ambos os plots, a relação entre o total de mortes e as caracteristicas da população de cada país, não podem nos fornecer nenhum valor conclusivo."
      ]
    },
    {
      "cell_type": "markdown",
      "metadata": {
        "id": "YyBXj0Ufmeu1",
        "colab_type": "text"
      },
      "source": [
        "##Análise Exploratória do Brasil\n",
        "\n",
        "Vamos agora focar nossos estudos para nosso país.\n",
        "\n",
        "Inicialmente vamos criar uma cópia do DataFrame só com as informções do Brasil"
      ]
    },
    {
      "cell_type": "code",
      "metadata": {
        "id": "UDQA502_hAwI",
        "colab_type": "code",
        "colab": {}
      },
      "source": [
        "df_brasil = df.loc[df.location == \"Brazil\"].copy()\n",
        "df_brasil.set_index('date', inplace=True)"
      ],
      "execution_count": 177,
      "outputs": []
    },
    {
      "cell_type": "markdown",
      "metadata": {
        "id": "_L55rLaZmsBb",
        "colab_type": "text"
      },
      "source": [
        "Você sabe quando foi a primeira morte de COVID-19 aqui?\n",
        "\n",
        "Vamos descobrir:"
      ]
    },
    {
      "cell_type": "code",
      "metadata": {
        "id": "SQ9NuSWlmzhV",
        "colab_type": "code",
        "colab": {
          "base_uri": "https://localhost:8080/",
          "height": 148
        },
        "outputId": "257d983b-4924-4c9c-a898-d1b72b2abede"
      },
      "source": [
        "# Esse foi o último dia em que não houveram mortos no Brasil.\n",
        "df_brasil.query('new_deaths == 0.0').tail(1)"
      ],
      "execution_count": 188,
      "outputs": [
        {
          "output_type": "execute_result",
          "data": {
            "text/html": [
              "<div>\n",
              "<style scoped>\n",
              "    .dataframe tbody tr th:only-of-type {\n",
              "        vertical-align: middle;\n",
              "    }\n",
              "\n",
              "    .dataframe tbody tr th {\n",
              "        vertical-align: top;\n",
              "    }\n",
              "\n",
              "    .dataframe thead th {\n",
              "        text-align: right;\n",
              "    }\n",
              "</style>\n",
              "<table border=\"1\" class=\"dataframe\">\n",
              "  <thead>\n",
              "    <tr style=\"text-align: right;\">\n",
              "      <th></th>\n",
              "      <th>iso_code</th>\n",
              "      <th>continent</th>\n",
              "      <th>location</th>\n",
              "      <th>total_cases</th>\n",
              "      <th>new_cases</th>\n",
              "      <th>total_deaths</th>\n",
              "      <th>new_deaths</th>\n",
              "      <th>total_cases_per_million</th>\n",
              "      <th>new_cases_per_million</th>\n",
              "      <th>total_deaths_per_million</th>\n",
              "      <th>new_deaths_per_million</th>\n",
              "      <th>total_tests</th>\n",
              "      <th>new_tests</th>\n",
              "      <th>total_tests_per_thousand</th>\n",
              "      <th>new_tests_per_thousand</th>\n",
              "      <th>new_tests_smoothed</th>\n",
              "      <th>new_tests_smoothed_per_thousand</th>\n",
              "      <th>tests_units</th>\n",
              "      <th>stringency_index</th>\n",
              "      <th>population</th>\n",
              "      <th>population_density</th>\n",
              "      <th>median_age</th>\n",
              "      <th>aged_65_older</th>\n",
              "      <th>aged_70_older</th>\n",
              "      <th>gdp_per_capita</th>\n",
              "      <th>extreme_poverty</th>\n",
              "      <th>cvd_death_rate</th>\n",
              "      <th>diabetes_prevalence</th>\n",
              "      <th>female_smokers</th>\n",
              "      <th>male_smokers</th>\n",
              "      <th>handwashing_facilities</th>\n",
              "      <th>hospital_beds_per_thousand</th>\n",
              "      <th>life_expectancy</th>\n",
              "    </tr>\n",
              "    <tr>\n",
              "      <th>date</th>\n",
              "      <th></th>\n",
              "      <th></th>\n",
              "      <th></th>\n",
              "      <th></th>\n",
              "      <th></th>\n",
              "      <th></th>\n",
              "      <th></th>\n",
              "      <th></th>\n",
              "      <th></th>\n",
              "      <th></th>\n",
              "      <th></th>\n",
              "      <th></th>\n",
              "      <th></th>\n",
              "      <th></th>\n",
              "      <th></th>\n",
              "      <th></th>\n",
              "      <th></th>\n",
              "      <th></th>\n",
              "      <th></th>\n",
              "      <th></th>\n",
              "      <th></th>\n",
              "      <th></th>\n",
              "      <th></th>\n",
              "      <th></th>\n",
              "      <th></th>\n",
              "      <th></th>\n",
              "      <th></th>\n",
              "      <th></th>\n",
              "      <th></th>\n",
              "      <th></th>\n",
              "      <th></th>\n",
              "      <th></th>\n",
              "      <th></th>\n",
              "    </tr>\n",
              "  </thead>\n",
              "  <tbody>\n",
              "    <tr>\n",
              "      <th>2020-03-17</th>\n",
              "      <td>BRA</td>\n",
              "      <td>South America</td>\n",
              "      <td>Brazil</td>\n",
              "      <td>234.0</td>\n",
              "      <td>34.0</td>\n",
              "      <td>0.0</td>\n",
              "      <td>0.0</td>\n",
              "      <td>1.101</td>\n",
              "      <td>0.16</td>\n",
              "      <td>0.0</td>\n",
              "      <td>0.0</td>\n",
              "      <td>NaN</td>\n",
              "      <td>NaN</td>\n",
              "      <td>NaN</td>\n",
              "      <td>NaN</td>\n",
              "      <td>NaN</td>\n",
              "      <td>NaN</td>\n",
              "      <td>NaN</td>\n",
              "      <td>57.87</td>\n",
              "      <td>212559409.0</td>\n",
              "      <td>25.04</td>\n",
              "      <td>33.5</td>\n",
              "      <td>8.552</td>\n",
              "      <td>5.06</td>\n",
              "      <td>14103.452</td>\n",
              "      <td>3.4</td>\n",
              "      <td>177.961</td>\n",
              "      <td>8.11</td>\n",
              "      <td>10.1</td>\n",
              "      <td>17.9</td>\n",
              "      <td>NaN</td>\n",
              "      <td>2.2</td>\n",
              "      <td>75.88</td>\n",
              "    </tr>\n",
              "  </tbody>\n",
              "</table>\n",
              "</div>"
            ],
            "text/plain": [
              "           iso_code      continent  ... hospital_beds_per_thousand  life_expectancy\n",
              "date                                ...                                            \n",
              "2020-03-17      BRA  South America  ...                        2.2            75.88\n",
              "\n",
              "[1 rows x 33 columns]"
            ]
          },
          "metadata": {
            "tags": []
          },
          "execution_count": 188
        }
      ]
    },
    {
      "cell_type": "markdown",
      "metadata": {
        "id": "B5MTTIOAn6wN",
        "colab_type": "text"
      },
      "source": [
        "A primeira morte de COVID-19 no Brasil foi em 18\n",
        " de março de 2020"
      ]
    },
    {
      "cell_type": "code",
      "metadata": {
        "id": "JrbYN9Qin9f2",
        "colab_type": "code",
        "colab": {
          "base_uri": "https://localhost:8080/",
          "height": 117
        },
        "outputId": "81bf06ac-8071-4d55-f95d-c6cd9eefb9b2"
      },
      "source": [
        "df_brasil = df.loc[df.location == \"Brazil\"].copy()\n",
        "df_brasil.loc[df_brasil.date == '2020-03-18']"
      ],
      "execution_count": 191,
      "outputs": [
        {
          "output_type": "execute_result",
          "data": {
            "text/html": [
              "<div>\n",
              "<style scoped>\n",
              "    .dataframe tbody tr th:only-of-type {\n",
              "        vertical-align: middle;\n",
              "    }\n",
              "\n",
              "    .dataframe tbody tr th {\n",
              "        vertical-align: top;\n",
              "    }\n",
              "\n",
              "    .dataframe thead th {\n",
              "        text-align: right;\n",
              "    }\n",
              "</style>\n",
              "<table border=\"1\" class=\"dataframe\">\n",
              "  <thead>\n",
              "    <tr style=\"text-align: right;\">\n",
              "      <th></th>\n",
              "      <th>iso_code</th>\n",
              "      <th>continent</th>\n",
              "      <th>location</th>\n",
              "      <th>date</th>\n",
              "      <th>total_cases</th>\n",
              "      <th>new_cases</th>\n",
              "      <th>total_deaths</th>\n",
              "      <th>new_deaths</th>\n",
              "      <th>total_cases_per_million</th>\n",
              "      <th>new_cases_per_million</th>\n",
              "      <th>total_deaths_per_million</th>\n",
              "      <th>new_deaths_per_million</th>\n",
              "      <th>total_tests</th>\n",
              "      <th>new_tests</th>\n",
              "      <th>total_tests_per_thousand</th>\n",
              "      <th>new_tests_per_thousand</th>\n",
              "      <th>new_tests_smoothed</th>\n",
              "      <th>new_tests_smoothed_per_thousand</th>\n",
              "      <th>tests_units</th>\n",
              "      <th>stringency_index</th>\n",
              "      <th>population</th>\n",
              "      <th>population_density</th>\n",
              "      <th>median_age</th>\n",
              "      <th>aged_65_older</th>\n",
              "      <th>aged_70_older</th>\n",
              "      <th>gdp_per_capita</th>\n",
              "      <th>extreme_poverty</th>\n",
              "      <th>cvd_death_rate</th>\n",
              "      <th>diabetes_prevalence</th>\n",
              "      <th>female_smokers</th>\n",
              "      <th>male_smokers</th>\n",
              "      <th>handwashing_facilities</th>\n",
              "      <th>hospital_beds_per_thousand</th>\n",
              "      <th>life_expectancy</th>\n",
              "    </tr>\n",
              "  </thead>\n",
              "  <tbody>\n",
              "    <tr>\n",
              "      <th>3229</th>\n",
              "      <td>BRA</td>\n",
              "      <td>South America</td>\n",
              "      <td>Brazil</td>\n",
              "      <td>2020-03-18</td>\n",
              "      <td>291.0</td>\n",
              "      <td>57.0</td>\n",
              "      <td>1.0</td>\n",
              "      <td>1.0</td>\n",
              "      <td>1.369</td>\n",
              "      <td>0.268</td>\n",
              "      <td>0.005</td>\n",
              "      <td>0.005</td>\n",
              "      <td>NaN</td>\n",
              "      <td>NaN</td>\n",
              "      <td>NaN</td>\n",
              "      <td>NaN</td>\n",
              "      <td>NaN</td>\n",
              "      <td>NaN</td>\n",
              "      <td>NaN</td>\n",
              "      <td>60.65</td>\n",
              "      <td>212559409.0</td>\n",
              "      <td>25.04</td>\n",
              "      <td>33.5</td>\n",
              "      <td>8.552</td>\n",
              "      <td>5.06</td>\n",
              "      <td>14103.452</td>\n",
              "      <td>3.4</td>\n",
              "      <td>177.961</td>\n",
              "      <td>8.11</td>\n",
              "      <td>10.1</td>\n",
              "      <td>17.9</td>\n",
              "      <td>NaN</td>\n",
              "      <td>2.2</td>\n",
              "      <td>75.88</td>\n",
              "    </tr>\n",
              "  </tbody>\n",
              "</table>\n",
              "</div>"
            ],
            "text/plain": [
              "     iso_code      continent  ... hospital_beds_per_thousand life_expectancy\n",
              "3229      BRA  South America  ...                        2.2           75.88\n",
              "\n",
              "[1 rows x 34 columns]"
            ]
          },
          "metadata": {
            "tags": []
          },
          "execution_count": 191
        }
      ]
    },
    {
      "cell_type": "markdown",
      "metadata": {
        "id": "ekOxpbAMpRXB",
        "colab_type": "text"
      },
      "source": [
        "Vamos verificar agora quando foi o registrado o primeiro caso no Brasil:"
      ]
    },
    {
      "cell_type": "code",
      "metadata": {
        "id": "vTvgbX26pBfI",
        "colab_type": "code",
        "colab": {
          "base_uri": "https://localhost:8080/",
          "height": 309
        },
        "outputId": "eb952020-4782-4f11-bc29-718213d5e6ef"
      },
      "source": [
        "df_brasil.query('new_cases == total_cases').tail(5)"
      ],
      "execution_count": 194,
      "outputs": [
        {
          "output_type": "execute_result",
          "data": {
            "text/html": [
              "<div>\n",
              "<style scoped>\n",
              "    .dataframe tbody tr th:only-of-type {\n",
              "        vertical-align: middle;\n",
              "    }\n",
              "\n",
              "    .dataframe tbody tr th {\n",
              "        vertical-align: top;\n",
              "    }\n",
              "\n",
              "    .dataframe thead th {\n",
              "        text-align: right;\n",
              "    }\n",
              "</style>\n",
              "<table border=\"1\" class=\"dataframe\">\n",
              "  <thead>\n",
              "    <tr style=\"text-align: right;\">\n",
              "      <th></th>\n",
              "      <th>iso_code</th>\n",
              "      <th>continent</th>\n",
              "      <th>location</th>\n",
              "      <th>date</th>\n",
              "      <th>total_cases</th>\n",
              "      <th>new_cases</th>\n",
              "      <th>total_deaths</th>\n",
              "      <th>new_deaths</th>\n",
              "      <th>total_cases_per_million</th>\n",
              "      <th>new_cases_per_million</th>\n",
              "      <th>total_deaths_per_million</th>\n",
              "      <th>new_deaths_per_million</th>\n",
              "      <th>total_tests</th>\n",
              "      <th>new_tests</th>\n",
              "      <th>total_tests_per_thousand</th>\n",
              "      <th>new_tests_per_thousand</th>\n",
              "      <th>new_tests_smoothed</th>\n",
              "      <th>new_tests_smoothed_per_thousand</th>\n",
              "      <th>tests_units</th>\n",
              "      <th>stringency_index</th>\n",
              "      <th>population</th>\n",
              "      <th>population_density</th>\n",
              "      <th>median_age</th>\n",
              "      <th>aged_65_older</th>\n",
              "      <th>aged_70_older</th>\n",
              "      <th>gdp_per_capita</th>\n",
              "      <th>extreme_poverty</th>\n",
              "      <th>cvd_death_rate</th>\n",
              "      <th>diabetes_prevalence</th>\n",
              "      <th>female_smokers</th>\n",
              "      <th>male_smokers</th>\n",
              "      <th>handwashing_facilities</th>\n",
              "      <th>hospital_beds_per_thousand</th>\n",
              "      <th>life_expectancy</th>\n",
              "    </tr>\n",
              "  </thead>\n",
              "  <tbody>\n",
              "    <tr>\n",
              "      <th>3204</th>\n",
              "      <td>BRA</td>\n",
              "      <td>South America</td>\n",
              "      <td>Brazil</td>\n",
              "      <td>2020-02-22</td>\n",
              "      <td>0.0</td>\n",
              "      <td>0.0</td>\n",
              "      <td>0.0</td>\n",
              "      <td>0.0</td>\n",
              "      <td>0.000</td>\n",
              "      <td>0.000</td>\n",
              "      <td>0.0</td>\n",
              "      <td>0.0</td>\n",
              "      <td>NaN</td>\n",
              "      <td>NaN</td>\n",
              "      <td>NaN</td>\n",
              "      <td>NaN</td>\n",
              "      <td>NaN</td>\n",
              "      <td>NaN</td>\n",
              "      <td>NaN</td>\n",
              "      <td>5.56</td>\n",
              "      <td>212559409.0</td>\n",
              "      <td>25.04</td>\n",
              "      <td>33.5</td>\n",
              "      <td>8.552</td>\n",
              "      <td>5.06</td>\n",
              "      <td>14103.452</td>\n",
              "      <td>3.4</td>\n",
              "      <td>177.961</td>\n",
              "      <td>8.11</td>\n",
              "      <td>10.1</td>\n",
              "      <td>17.9</td>\n",
              "      <td>NaN</td>\n",
              "      <td>2.2</td>\n",
              "      <td>75.88</td>\n",
              "    </tr>\n",
              "    <tr>\n",
              "      <th>3205</th>\n",
              "      <td>BRA</td>\n",
              "      <td>South America</td>\n",
              "      <td>Brazil</td>\n",
              "      <td>2020-02-23</td>\n",
              "      <td>0.0</td>\n",
              "      <td>0.0</td>\n",
              "      <td>0.0</td>\n",
              "      <td>0.0</td>\n",
              "      <td>0.000</td>\n",
              "      <td>0.000</td>\n",
              "      <td>0.0</td>\n",
              "      <td>0.0</td>\n",
              "      <td>NaN</td>\n",
              "      <td>NaN</td>\n",
              "      <td>NaN</td>\n",
              "      <td>NaN</td>\n",
              "      <td>NaN</td>\n",
              "      <td>NaN</td>\n",
              "      <td>NaN</td>\n",
              "      <td>5.56</td>\n",
              "      <td>212559409.0</td>\n",
              "      <td>25.04</td>\n",
              "      <td>33.5</td>\n",
              "      <td>8.552</td>\n",
              "      <td>5.06</td>\n",
              "      <td>14103.452</td>\n",
              "      <td>3.4</td>\n",
              "      <td>177.961</td>\n",
              "      <td>8.11</td>\n",
              "      <td>10.1</td>\n",
              "      <td>17.9</td>\n",
              "      <td>NaN</td>\n",
              "      <td>2.2</td>\n",
              "      <td>75.88</td>\n",
              "    </tr>\n",
              "    <tr>\n",
              "      <th>3206</th>\n",
              "      <td>BRA</td>\n",
              "      <td>South America</td>\n",
              "      <td>Brazil</td>\n",
              "      <td>2020-02-24</td>\n",
              "      <td>0.0</td>\n",
              "      <td>0.0</td>\n",
              "      <td>0.0</td>\n",
              "      <td>0.0</td>\n",
              "      <td>0.000</td>\n",
              "      <td>0.000</td>\n",
              "      <td>0.0</td>\n",
              "      <td>0.0</td>\n",
              "      <td>NaN</td>\n",
              "      <td>NaN</td>\n",
              "      <td>NaN</td>\n",
              "      <td>NaN</td>\n",
              "      <td>NaN</td>\n",
              "      <td>NaN</td>\n",
              "      <td>NaN</td>\n",
              "      <td>5.56</td>\n",
              "      <td>212559409.0</td>\n",
              "      <td>25.04</td>\n",
              "      <td>33.5</td>\n",
              "      <td>8.552</td>\n",
              "      <td>5.06</td>\n",
              "      <td>14103.452</td>\n",
              "      <td>3.4</td>\n",
              "      <td>177.961</td>\n",
              "      <td>8.11</td>\n",
              "      <td>10.1</td>\n",
              "      <td>17.9</td>\n",
              "      <td>NaN</td>\n",
              "      <td>2.2</td>\n",
              "      <td>75.88</td>\n",
              "    </tr>\n",
              "    <tr>\n",
              "      <th>3207</th>\n",
              "      <td>BRA</td>\n",
              "      <td>South America</td>\n",
              "      <td>Brazil</td>\n",
              "      <td>2020-02-25</td>\n",
              "      <td>0.0</td>\n",
              "      <td>0.0</td>\n",
              "      <td>0.0</td>\n",
              "      <td>0.0</td>\n",
              "      <td>0.000</td>\n",
              "      <td>0.000</td>\n",
              "      <td>0.0</td>\n",
              "      <td>0.0</td>\n",
              "      <td>NaN</td>\n",
              "      <td>NaN</td>\n",
              "      <td>NaN</td>\n",
              "      <td>NaN</td>\n",
              "      <td>NaN</td>\n",
              "      <td>NaN</td>\n",
              "      <td>NaN</td>\n",
              "      <td>5.56</td>\n",
              "      <td>212559409.0</td>\n",
              "      <td>25.04</td>\n",
              "      <td>33.5</td>\n",
              "      <td>8.552</td>\n",
              "      <td>5.06</td>\n",
              "      <td>14103.452</td>\n",
              "      <td>3.4</td>\n",
              "      <td>177.961</td>\n",
              "      <td>8.11</td>\n",
              "      <td>10.1</td>\n",
              "      <td>17.9</td>\n",
              "      <td>NaN</td>\n",
              "      <td>2.2</td>\n",
              "      <td>75.88</td>\n",
              "    </tr>\n",
              "    <tr>\n",
              "      <th>3208</th>\n",
              "      <td>BRA</td>\n",
              "      <td>South America</td>\n",
              "      <td>Brazil</td>\n",
              "      <td>2020-02-26</td>\n",
              "      <td>1.0</td>\n",
              "      <td>1.0</td>\n",
              "      <td>0.0</td>\n",
              "      <td>0.0</td>\n",
              "      <td>0.005</td>\n",
              "      <td>0.005</td>\n",
              "      <td>0.0</td>\n",
              "      <td>0.0</td>\n",
              "      <td>NaN</td>\n",
              "      <td>NaN</td>\n",
              "      <td>NaN</td>\n",
              "      <td>NaN</td>\n",
              "      <td>NaN</td>\n",
              "      <td>NaN</td>\n",
              "      <td>NaN</td>\n",
              "      <td>5.56</td>\n",
              "      <td>212559409.0</td>\n",
              "      <td>25.04</td>\n",
              "      <td>33.5</td>\n",
              "      <td>8.552</td>\n",
              "      <td>5.06</td>\n",
              "      <td>14103.452</td>\n",
              "      <td>3.4</td>\n",
              "      <td>177.961</td>\n",
              "      <td>8.11</td>\n",
              "      <td>10.1</td>\n",
              "      <td>17.9</td>\n",
              "      <td>NaN</td>\n",
              "      <td>2.2</td>\n",
              "      <td>75.88</td>\n",
              "    </tr>\n",
              "  </tbody>\n",
              "</table>\n",
              "</div>"
            ],
            "text/plain": [
              "     iso_code      continent  ... hospital_beds_per_thousand life_expectancy\n",
              "3204      BRA  South America  ...                        2.2           75.88\n",
              "3205      BRA  South America  ...                        2.2           75.88\n",
              "3206      BRA  South America  ...                        2.2           75.88\n",
              "3207      BRA  South America  ...                        2.2           75.88\n",
              "3208      BRA  South America  ...                        2.2           75.88\n",
              "\n",
              "[5 rows x 34 columns]"
            ]
          },
          "metadata": {
            "tags": []
          },
          "execution_count": 194
        }
      ]
    },
    {
      "cell_type": "markdown",
      "metadata": {
        "id": "fHuCw-azpbxq",
        "colab_type": "text"
      },
      "source": [
        "O primeiro caso de COVID-19 foi registrado em 26 de fevereiro de 2020.\n",
        "\n",
        "Tivemos nossa primeira morte 22 dias após o primeiro caso"
      ]
    },
    {
      "cell_type": "markdown",
      "metadata": {
        "id": "LkwgQscYqsCf",
        "colab_type": "text"
      },
      "source": [
        "Vamos agora, analisar gráficamente o número de mortes em nosso país:"
      ]
    },
    {
      "cell_type": "code",
      "metadata": {
        "id": "SzqdnuhFqVZG",
        "colab_type": "code",
        "colab": {
          "base_uri": "https://localhost:8080/",
          "height": 437
        },
        "outputId": "f384dbc4-52e3-4876-a882-6b1eed6435a0"
      },
      "source": [
        "fig, ax = plt.subplots(nrows=1, ncols=2, figsize=(16,6))\n",
        "\n",
        "\n",
        "df_brasil[['location', 'total_deaths', 'date']].set_index('date').plot(ax=ax[0])\n",
        "ax[0].set_title(\"Total de mortes no Brasil\", fontsize=20)\n",
        "ax[0].set_ylabel('Nr de mortes')\n",
        "ax[0].set_xlabel('')\n",
        "\n",
        "df_brasil[['location', 'total_cases', 'date']].set_index('date').plot(ax=ax[1])\n",
        "ax[1].set_title(\"Total de casos no Brasil\", fontsize=20)\n",
        "ax[1].set_ylabel('Nr de caos')\n",
        "ax[1].set_xlabel('')\n",
        "\n",
        "plt.tight_layout()"
      ],
      "execution_count": 221,
      "outputs": [
        {
          "output_type": "display_data",
          "data": {
            "image/png": "[encoded data removed]",
            "text/plain": [
              "<Figure size 1152x432 with 2 Axes>"
            ]
          },
          "metadata": {
            "tags": []
          }
        }
      ]
    },
    {
      "cell_type": "markdown",
      "metadata": {
        "id": "A4MvcSNIv3gq",
        "colab_type": "text"
      },
      "source": [
        "Vamos fazer uma análise desses mesmos valores em uma escala logarítimica:"
      ]
    },
    {
      "cell_type": "code",
      "metadata": {
        "id": "q-S1P5Auqzih",
        "colab_type": "code",
        "colab": {
          "base_uri": "https://localhost:8080/",
          "height": 365
        },
        "outputId": "d251c7da-6802-49b3-9f15-7aae4e5ecdec"
      },
      "source": [
        "fig, ax = plt.subplots(figsize=(8,5))\n",
        "\n",
        "df_brasil[['location', 'total_deaths', 'date']].set_index('date').plot(ax=ax)\n",
        "ax.set_title(\"Total de mortes no Brasil\\n(logarítimico)\", fontsize=20)\n",
        "ax.set_ylabel('Nr de mortes')\n",
        "ax.set_xlabel('')\n",
        "\n",
        "plt.yscale('log')\n",
        "plt.ylabel('log')\n",
        "plt.xscale('log')\n",
        "plt.xlabel('log')\n",
        "\n",
        "plt.tight_layout()"
      ],
      "execution_count": 232,
      "outputs": [
        {
          "output_type": "display_data",
          "data": {
            "image/png": "[encoded data removed]",
            "text/plain": [
              "<Figure size 576x360 with 1 Axes>"
            ]
          },
          "metadata": {
            "tags": []
          }
        }
      ]
    },
    {
      "cell_type": "code",
      "metadata": {
        "id": "X2oUlPPgvuvH",
        "colab_type": "code",
        "colab": {
          "base_uri": "https://localhost:8080/",
          "height": 365
        },
        "outputId": "1aa4912f-6af4-4b2a-f757-27771b73444f"
      },
      "source": [
        "fig, ax = plt.subplots(figsize=(8,5))\n",
        "\n",
        "df_brasil[['location', 'total_cases', 'date']].set_index('date').plot(ax=ax)\n",
        "ax.set_title(\"Total de casos no Brasil\\n(logarítimico)\", fontsize=20)\n",
        "ax.set_ylabel('Nr de casos')\n",
        "ax.set_xlabel('')\n",
        "\n",
        "plt.yscale('log')\n",
        "plt.ylabel('log')\n",
        "plt.xscale('log')\n",
        "plt.xlabel('log')\n",
        "\n",
        "plt.tight_layout()"
      ],
      "execution_count": 233,
      "outputs": [
        {
          "output_type": "display_data",
          "data": {
            "image/png": "[encoded data removed]",
            "text/plain": [
              "<Figure size 576x360 with 1 Axes>"
            ]
          },
          "metadata": {
            "tags": []
          }
        }
      ]
    },
    {
      "cell_type": "markdown",
      "metadata": {
        "id": "nWF4PFsgzmNW",
        "colab_type": "text"
      },
      "source": [
        "Como última análise, vamos comparar a população do Brasil e o número de mortes com a população da Europa (excluíndo a Russia) e seu número de mortes."
      ]
    },
    {
      "cell_type": "code",
      "metadata": {
        "id": "LLYBUWLfwCWK",
        "colab_type": "code",
        "colab": {
          "base_uri": "https://localhost:8080/",
          "height": 51
        },
        "outputId": "b1cab061-fdcb-4c54-e835-1c946d78e71e"
      },
      "source": [
        "df_eu_sem_russia = df.query('continent == \"Europe\"').loc[df.date == '2020-06-17'].sort_values(by='population', ascending=False)[1:]\n",
        "print(f'A população do Europa (sem a Rússia) é de {df_eu_sem_russia.population.sum()} habitantes')\n",
        "print(f'O total de mortes na Europa (sem a Russia) é de {df_eu_sem_russia.total_deaths.sum()}')"
      ],
      "execution_count": 260,
      "outputs": [
        {
          "output_type": "stream",
          "text": [
            "A população do Europa (sem a Rússia) é de 555816967.0 habitantes\n",
            "O total de mortes na Europa (sem a Russia) é de 149236.0\n"
          ],
          "name": "stdout"
        }
      ]
    },
    {
      "cell_type": "code",
      "metadata": {
        "id": "lpghOKkeyMLc",
        "colab_type": "code",
        "colab": {}
      },
      "source": [
        "pop_br = df_brasil.loc[df_brasil.date == '2020-06-17']['population'].sum()\n",
        "mortes_br = df_brasil.loc[df_brasil.date == '2020-06-17']['total_deaths'].sum()"
      ],
      "execution_count": 272,
      "outputs": []
    },
    {
      "cell_type": "code",
      "metadata": {
        "id": "JcMEHlFMxrsH",
        "colab_type": "code",
        "colab": {
          "base_uri": "https://localhost:8080/",
          "height": 51
        },
        "outputId": "92991486-c36e-472e-cdaf-c33b3b13efc7"
      },
      "source": [
        "print(f'A população do Brasil é de {pop_br} habitantes')\n",
        "print(f'O total de mortes no Brasil é de {mortes_br}')"
      ],
      "execution_count": 274,
      "outputs": [
        {
          "output_type": "stream",
          "text": [
            "A população do Brasil é de 212559409.0 habitantes\n",
            "O total de mortes no Brasil é de 45241.0\n"
          ],
          "name": "stdout"
        }
      ]
    },
    {
      "cell_type": "markdown",
      "metadata": {
        "id": "LCsiXvM3BcsO",
        "colab_type": "text"
      },
      "source": [
        "## Conclusão\n",
        "\n",
        "Finalizamos mais essa análise e, concluo da mesma forma que iniciei: os dados e forma como são reportados pelo mundo todo não são padronizados e dessa forma não queremos concluir aqui com nenhuma afirmação ou julgamento.\n",
        "\n",
        "Nosso principal objetivo era mostrar alguns valores e tentar entender como as variáveis se comportam ou possuem alguma correlação.\n",
        "\n",
        "Gostaria de chamar a todos para refletirem sobre nossa última análise: *nosso pais possui metade da população de toda Europa (exluindo a Rússia), mas possui menos de 1/3 do número de mortes. Talvez nosso país esteja com uma conduta eficiente no combate, uma vez que \"possui melhores números\" que os países desenvolvidos da Europa?*\n",
        "\n",
        "Somente o tempo vai nos dizer como estamos indo nessa guerra, mas nesse momento, tente olhar as coisas boas e acreditar em algo maior. Antes de falar mal do seu país, o Brasil, lembre-se dessa última análise que fizemos nos comparando ao países mais desenvolvidos!\n",
        "\n",
        "Vamos continuar lutando e acreditando!\n",
        "\n",
        "Para acompanhar outros artigos sobre programação e Data Science, procure no meu [Linkdin](https://www.linkedin.com/in/miguel-s-machado/), ou no [GitHub](https://github.com/miguelsmachado/py_projects/blob/master/README.md) ou no [Medium](https://medium.com/@miguelsmachado).\n",
        "\n",
        "E dessa vez, gostaria de convidar para uma outra análise do Covid-19 que já fizemos, mas dessa vez, voltada para as mídias sociais e a relação entre as pessoas com o tema COVID-19. [Leia agora!](https://medium.com/@miguelsmachado/analisando-dados-do-twitter-covid-19-04-de-junho-de-2020-8a8d2dce749)\n",
        "\n",
        "Obrigado pela atenção! Até a próxima!"
      ]
    }
  ]
}