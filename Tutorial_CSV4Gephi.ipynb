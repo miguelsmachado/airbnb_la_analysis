{
  "nbformat": 4,
  "nbformat_minor": 0,
  "metadata": {
    "colab": {
      "name": "Tutorial CSV4Gephi.ipynb",
      "provenance": [],
      "toc_visible": true,
      "authorship_tag": "ABX9TyNw5g7k9+/IoDpBWYVycCX/"
    },
    "kernelspec": {
      "name": "python3",
      "display_name": "Python 3"
    }
  },
  "cells": [
    {
      "cell_type": "markdown",
      "metadata": {
        "id": "USHWTMvZBp6c",
        "colab_type": "text"
      },
      "source": [
        "####**Análise de Mídias Sociais**\n",
        "*by [Miguel S. Machado](https://www.linkedin.com/in/miguel-s-machado/)*\n",
        "\n",
        "---\n",
        "\n",
        "# Analisando dados do Twitter - **Covid-19** (04 de Junho de 2020)\n",
        "\n",
        "O estudo a abaixo tem como objetivo mostrar a relevância de um diagrama de relacionamentos para a compreensão do cenário atual.\n",
        "\n",
        "Vivemos em um mundo onde a tecnologia está em constante desenvolvimento e presente em todas as atividades que desempenhamos. Com essa evolução, em um curto período de tempo as pessoas deixaram de ser simples consumidores passivos de informação e começaram a ganhar voz!\n",
        "Hoje qualquer pessoa com um celular na mão pode se tornar um produtor de conteúdo e influenciador de pessoas pela internet.\n",
        "Entender como as pessoas se posicionam sobre um determinado assunto e quem são os principais ativistas desse assunto é muito importante. Se você é um jornalista, entender um diagrama de relacionamentos irá lhe proporcionar uma visão do todo e não só de um lado da moeda. Se você é um empresário, pode ver quem são os mais ativos e maiores influenciadores em assuntos associados à sua marca. Os usos desse tipo de informação são ilimitados.\n",
        "\n",
        "Chega de conversa e vamos colocar as mãos na massa e entender o diagrama de relacionamentos sobre um dos principais assuntos do momento, infelizmente, o COVID-19.\n",
        "\n",
        "Para realizar esse estudo serão utilizadas 3 ferramentas:\n",
        "- A primeira delas é o [FacePager](https://https://github.com/strohne/Facepager), que nos possibilitará a busca de dados no Twitter e criação do nosso arquivo quer irá gerar o nosso DataFrame;\n",
        "- A segunda é a nossa poderosa linguagem de programação: Python. Com algumas bibliotecas fundamentais como Pandas, Matplotlib e Seaborn. Mas vamos facilitar essa etapa, com uma [interface interativa criado por mim](https://csv4gephi.herokuapp.com);\n",
        "- E por último o [Gephi](https://https://gephi.org/users/download/), que será o grande responsável pela criação do diagrama de relacionamentos.\n"
      ]
    },
    {
      "cell_type": "markdown",
      "metadata": {
        "id": "8dU5yb3wIi8e",
        "colab_type": "text"
      },
      "source": [
        "#**Entendendo o FacePager**"
      ]
    },
    {
      "cell_type": "markdown",
      "metadata": {
        "id": "DIWSIxoPIvN4",
        "colab_type": "text"
      },
      "source": [
        "## Definição\n",
        "O FacePager é uma ferramenta OpenSource que possibilita uma busca automatizada em algumas mídias sociais, como Twitter, Facebook e YouTube.\n",
        "\n",
        "No nosso estudo, faremos uma busca no Twitter. E para isso precisamos de uma conta para fazer o login (1). Feito o login, temos que criar um database (2). Se você nem sabe o que é, não se preocupe, não irá utizar! O próximo passo é escolher os *Nodes* (3), que são nada mais nada menos que as palavras chaves. Agora vamos ajustar os padrões de busca (4), e quando tudo estiver conforme o desejado, selecione todos os nós e clique em `Fetch Data`.\n",
        "\n",
        "Agora basta aguardar que os dados sejam coletados para que possamos iniciar o processo de exportação do arquivo *.csv*.\n",
        "\n",
        "Antes de exportarmos, vamos selecionar as colunas que nos importam (5). E, finalmente, selecionar todos os nós e exportar (6) o arquivo *.csv*.\n",
        "\n",
        "![Facepager](https://github.com/miguelsmachado/data_science/blob/master/Analise_midias_sociais/facepager_02.png?raw=true)"
      ]
    },
    {
      "cell_type": "markdown",
      "metadata": {
        "id": "zQJ5HIRiLlmW",
        "colab_type": "text"
      },
      "source": [
        "#**Utilzando o _CSV4Gephi_** \n",
        "\n",
        "O [CSV4Gephi](https://csv4gephi.herokuapp.com) é uma ferramenta desenvolvida para facilitar a vida do usuário! As primeiras pessoas que usaram o projeto tinham que executar as linhas de código no próprio Google Colab, o que não era muito simples para quem não dominava muito do mundo da programação.\n",
        "\n",
        "Agora, com essa interface interativa e simples de usar, basta o usuário fazer o upload do arquivo `.csv` gerado pelo gephi e coletar os dados, gráficos e imagens que lhe for de interesse, assim como o arquivo `.csv` trabalhando para gerar o diagrama de relacionamentos no Gephi. "
      ]
    },
    {
      "cell_type": "markdown",
      "metadata": {
        "id": "FybVVjHGMgk0",
        "colab_type": "text"
      },
      "source": [
        "## Tela Inicial\n",
        "\n",
        "A tela inicial exibe algumas informações básicas que orientam a realização da apanha de dados no FacePager.\n",
        "\n",
        "Inicialmente temos um cabeçalho que faz um link para este artigo, para que possa servir como um tutorial.\n",
        "\n",
        "Na sequência temos algumas orientações para confecção do arquivo `.csv`no FacePager e um botão de opção sobre qual separador foi utilizado no arquivo que será importado (*Por padrão, o FacePager utiliza o ponto-e-vírgula como separador*)\n",
        "\n",
        "E por fim temos uma área de upload, onde pode ser arrastado o arquivo gerado pelo FacePager.\n",
        "\n",
        "***\n",
        "\n",
        "<img src=\"https://github.com/miguelsmachado/data_science/blob/master/Analise_midias_sociais/app1.png?raw=true\" alt=\"Girl in a jacket\" width=\"700\">"
      ]
    },
    {
      "cell_type": "markdown",
      "metadata": {
        "id": "7SNWyLDh-J64",
        "colab_type": "text"
      },
      "source": [
        "## Primeiros ajustes\n",
        "\n",
        "Após fazermos o upload do arquivo, ao rolar a tela para baixo, nos deparamos com uma algumas opções que nos irão permitir realizar alguns ajustes e darmos uma olhada geral no arquivo importado.\n",
        "\n",
        "O primeiro ajuste que temos nos permite selecionar um número mínimo de retwites para que o post entre no estudo. O aconselhavel é deixar esse número em `0`. Caso o gráfico do Gephi fique muito poluído, talvez seja o caso refazer o processo com algum número mínimo.\n",
        "\n",
        "O usuário pode também aumentar o número da dados mostrados nessa exibição inicial, caso ache necessário.\n",
        "\n",
        "***\n",
        "\n",
        "<img src=\"https://github.com/miguelsmachado/data_science/blob/master/Analise_midias_sociais/app2.png?raw=true\" alt=\"Girl in a jacket\" width=\"700\">"
      ]
    },
    {
      "cell_type": "markdown",
      "metadata": {
        "id": "1xtU78k7AKUC",
        "colab_type": "text"
      },
      "source": [
        "## Otimizando os parâmetros de busca\n",
        "\n",
        "Nessa parte o usuário poderá visualizar quais foram as palavras que mais apareceram em sua amostra de dados.\n",
        "\n",
        "Esse processo visa auxiliá-lo no caso de encontrar uma palavra muito importante para essa amostra e assim, refazer a busca no FacePager incluindo essa palavra.\n",
        "\n",
        "Temos ainda, a opção de excluir alguma palavra que tenha aparecido na busca e que não esteja contribuindo em nada para análise, como proposições, conjunções etc.\n",
        "\n",
        "***\n",
        "\n",
        "<img src=\"https://github.com/miguelsmachado/data_science/blob/master/Analise_midias_sociais/app3.png?raw=true\" alt=\"Girl in a jacket\" width=\"800\">"
      ]
    },
    {
      "cell_type": "markdown",
      "metadata": {
        "id": "u_Wvr-KfBIn6",
        "colab_type": "text"
      },
      "source": [
        "## Top Hashtags\n",
        "\n",
        "Descendo mais a tela, vamos encontrar as hashtags(#) mais utilizadas em nossa amostra.\n",
        "\n",
        "Da mesma forma que as palavras mais utilizadas, as hashtags também podem ser de grande valia para um possível refinamento das buscas.\n",
        "\n",
        "Ao clicar no botão `Gerar Wordcloud`, será exibida uma imagem com as hashtags mais utilizadas classificadas por uma ordem de tamanho, ou seja, quanto mais for a palavra, mas a hashtag apareceu.\n",
        "\n",
        "***\n",
        "\n",
        "<img src=\"https://github.com/miguelsmachado/data_science/blob/master/Analise_midias_sociais/app4.png?raw=true\" alt=\"Girl in a jacket\" width=\"800\">"
      ]
    },
    {
      "cell_type": "markdown",
      "metadata": {
        "id": "rdpuOlFGCXVP",
        "colab_type": "text"
      },
      "source": [
        "## Top Menções\n",
        "\n",
        "Com um propósito similar, temos as contas mais mencionadas.\n",
        "\n",
        "Essa menção, não tem nenhuma relação com o usuário mais influente na amostra (veremos em detalhes mais abaixo). Aqui temos as contas mais citadas nos textos dos twittes.\n",
        "\n",
        "Também temos a opção de gerar uma *WordCloud*\n",
        "\n",
        "***\n",
        "\n",
        "<img src=\"https://github.com/miguelsmachado/data_science/blob/master/Analise_midias_sociais/app5.png?raw=true\" alt=\"Girl in a jacket\" width=\"800\">"
      ]
    },
    {
      "cell_type": "markdown",
      "metadata": {
        "id": "U7MzjlCpDCPj",
        "colab_type": "text"
      },
      "source": [
        "## Maiores Influenciadores\n",
        "\n",
        "Aqui temos os usuários que, dentro da nossa amostra do FacePager, possuem maior influência sobre os outros na rede nos assuntos buscados no FacePager.\n",
        "\n",
        "Ao clicar no botão `Gerar Gráfico`, será gerado um gráfico de barras com a informação da tabela.\n",
        "\n",
        "Essa informação é a similar a que será gerada no Gephi. Mas, vale lembrar que o diagrama gerado no Gephi nos possibilita uma análise das relações muito mais profunda que esse simples gráfico de barras.\n",
        "\n",
        "***\n",
        "\n",
        "<img src=\"https://github.com/miguelsmachado/data_science/blob/master/Analise_midias_sociais/app6.png?raw=true\" alt=\"Girl in a jacket\" width=\"800\">"
      ]
    },
    {
      "cell_type": "markdown",
      "metadata": {
        "id": "2fPuyUTgELQl",
        "colab_type": "text"
      },
      "source": [
        "## Maiores Twittadores\n",
        "\n",
        "Se a tabela acima mostra quem são os mais \"ouvidos\", essa parte da análise nos mostra que são os mais \"faladores\".\n",
        "\n",
        "Aqui temos, dentro de nossa amostra, os usuários que mais twittaram sobre o assunto.\n",
        "\n",
        "Podemos analisar nesse exemplo:\n",
        "- A conta *oatila* fez 16 twittes sobre o assunto;\n",
        "- Mas essa mesma conta, foi apenas o sexto mais retwittado (veja acima).\n",
        "\n",
        "Da mesma forma que o exemplo anterior, podemos gerar um gráfico de barras para ilustrar a informação.\n",
        "\n",
        "***\n",
        "\n",
        "<img src=\"https://github.com/miguelsmachado/data_science/blob/master/Analise_midias_sociais/app7.png?raw=true\" alt=\"Girl in a jacket\" width=\"800\">"
      ]
    },
    {
      "cell_type": "markdown",
      "metadata": {
        "id": "mKv5s_-wFTti",
        "colab_type": "text"
      },
      "source": [
        "## Encontrando a localização dos usuários\n",
        "\n",
        "Nessa parte, vamos fazer uma análise de em quais estados se encontram os perfis que retwittaram.\n",
        "\n",
        "Foi feita uma busca pelo dado informado pelo próprio dono da conta e comparado a um banco de dados com o nome de todos os municípios do Brasil.\n",
        "\n",
        "É importante ser informado que, apesar de obtermos um resultado bem satisfatório, essa análise ainda se encontra em aprimoramento.\n",
        "\n",
        "Por exemplo: uma conta que tenha escrito em sua localização *(021)* ao invés de Rio de Janeiro, por enquanto não será computada.\n",
        "\n",
        "Em breve serão feitos alguns ajustes visando melhorar essa busca.\n",
        "\n",
        "Assim como as informações acima, podemos gerar um gráfico em barra para ilustrar melhor.\n",
        "\n",
        "***\n",
        "\n",
        "<img src=\"https://github.com/miguelsmachado/data_science/blob/master/Analise_midias_sociais/app8.png?raw=true\" alt=\"Girl in a jacket\" width=\"800\">"
      ]
    },
    {
      "cell_type": "markdown",
      "metadata": {
        "id": "d_0-eFobHG9m",
        "colab_type": "text"
      },
      "source": [
        "##Busca de Twittes\n",
        "\n",
        "Rolando mais nossa tela para baixo encontraremos essa busca de twittes.\n",
        "\n",
        "Escolhemos um dos usuários que nos interesse, digitamos seu nome na caixa de texto (é importante digitar o nome correto da conta) e ao clicar em `Buscar`, todos os seus twittes que estiverem em nossa amostra, serão exibidos.\n",
        "\n",
        "Essa informação está ordenada da mais relevante (mais retwittes) para a menos relevante (menos retwittes).\n",
        "\n",
        "Basta o usuário copiar e colar o link em seu navegador e poderá visualizar a postagem.\n",
        "***\n",
        "\n",
        "<img src=\"https://github.com/miguelsmachado/data_science/blob/master/Analise_midias_sociais/app9.png?raw=true\" alt=\"Girl in a jacket\" width=\"800\">"
      ]
    },
    {
      "cell_type": "markdown",
      "metadata": {
        "id": "NUxZH4H7IKCf",
        "colab_type": "text"
      },
      "source": [
        "## Busca no conteúdo dos Twittes\n",
        "\n",
        "Nessa última parte interativa da ferramenta, podemos buscar palavras chaves nos textos dos twittes.\n",
        "\n",
        "Primeiro digitamos o nome da conta que queremos pesquisar (se quiser fazer a busca geral, basta digitar *todos*)\n",
        "\n",
        "E depois colocamos a palavra-chave da busca (É recomendado buscar uma palavra por vez).\n",
        "\n",
        "Após concluída a busca, o usuário pode copiar e colar o link em seu navegador e visualizar a postagem.\n",
        "\n",
        "***\n",
        "\n",
        "<img src=\"https://github.com/miguelsmachado/data_science/blob/master/Analise_midias_sociais/app10.png?raw=true\" alt=\"Girl in a jacket\" width=\"800\">"
      ]
    },
    {
      "cell_type": "markdown",
      "metadata": {
        "id": "xR6Ql76TJExC",
        "colab_type": "text"
      },
      "source": [
        "## Baixando o arquivo pronto para o GEPHI\n",
        "\n",
        "Finalizada toda análise, basta clicar no link e baixar o arquivo `.csv` que está preparada para ser inserido no Gephi e gerar o diagrama de relacionamentos.\n",
        "\n",
        "*O arquivo baixado não terá extensão. Após o download, renomeie o arquivo colocando a extensão `.cvs`.\n",
        "\n",
        "***\n",
        "\n",
        "<img src=\"https://github.com/miguelsmachado/data_science/blob/master/Analise_midias_sociais/Captura%20de%20Tela%202020-07-01%20às%2022.30.27.png?raw=true\" alt=\"Girl in a jacket\" width=\"800\">"
      ]
    },
    {
      "cell_type": "markdown",
      "metadata": {
        "id": "NlEL1wCTFFv7",
        "colab_type": "text"
      },
      "source": [
        "#Utilizando o **Gephi**\n",
        "\n",
        "O Gephi é um programa que gera um gráfico de relacionamentos a partir de informações inseridas.\n",
        "\n",
        "Podemos faze-lo de forma manual, mais isso é  muito difícil pois precisaria ser inserido a mão mais de 15.000 linhas de dados (Esse nosso DataSet possui quase 15500 relacionametos).\n",
        "\n",
        "Ou podemos inserir um arquivo *.csv* (o que estamos fazendo) e gerar nosso diagrama de relacionamentos.\n",
        "\n"
      ]
    },
    {
      "cell_type": "markdown",
      "metadata": {
        "id": "rBuAoufvHSPd",
        "colab_type": "text"
      },
      "source": [
        "### Inserindo os dados\n",
        "\n",
        "Ao inicializar o programa, vamos clicar em: `Arquivo` -> `Importar Planilha`\n",
        "\n",
        "Selecione o arquivo gerado aqui e conclua a importação.\n",
        "\n",
        "Assim que importarmos o arquivos teremos uma visão de algo estranho e sem sentido nenhum:\n",
        "\n",
        "![Gephi01](https://github.com/miguelsmachado/data_science/blob/master/Analise_midias_sociais/gephi_01.png?raw=true)\n",
        "\n",
        "Está pronto! Aqui estão todos os twittes! Agora é só analisar!\n",
        "\n",
        "Calma...\n",
        "\n",
        "Vamos rodar alguns algoritimos do Gephi para tornar isso mais compressível:\n",
        "- Primeiro vamos ajustar algumas estatísticas(1):\n",
        "  - No item `Modularidade` e clicar em `Executar`\n",
        "- Agora vamos ajustar algumas aparências(2):\n",
        "  - Sempre vamos ajustar os nós;\n",
        "  - Escolha a opção tamanho(3), depois `Ranking`-> `Grau de Entrada` -> `Aplicar`\n",
        "  - Agora, na opção cores(4), escolha `Partition`-> `Modularity Class` -> `Aplicar`\n",
        "- Vamos dar vida a esse diagrama ajustando a distribuição(5):\n",
        "  - Na caixa, `Escolha um distribuição`, selecione `OpenOrd` e `Executar`\n",
        "  - Quando finalizar, escolha `Force Atlas 2`, marque a opção *evitar sobreposições* e clique em `Executar`;\n",
        "  - Obs.: O Force Atlas 2 nunca para de executar. Quando julgar que está como gostaria, é só parar.\n",
        "- Por fim, vamos colocar os nomes nos nós:\n",
        "  - Clique no botão no canto inferior direito(6), se esta aba estiver abaixada;\n",
        "  - Clique em atributos(7) e deixe selecionada somente a opção `Id`;\n",
        "  - Selecione **`Rótulos`** e por fim marque as seguintes caixas: `Esconder não selecionadas`e `Nó`\n",
        "\n",
        "**Agora sim!!! Tudo pronto**\n",
        "\n",
        "![Gephi02](https://github.com/miguelsmachado/data_science/blob/master/Analise_midias_sociais/gephi_02.png?raw=true)\n",
        "\n",
        "Com a ajuda do **PhotoShop**, vamos dar uns ajustes nesse diagrama para facilitar nossa compreensão:\n",
        "\n",
        "![Gephi03](https://github.com/miguelsmachado/data_science/blob/master/Analise_midias_sociais/gephi_03_1.png?raw=true)\n",
        "\n",
        "**Vamos a uma pequena análise:**\n",
        "- Como podemos ver existem alguns *\"Círculos de Relacionamentos\"*;\n",
        "- O principal está na cor azul e tem como centro **lucashoran**;\n",
        "- Dentro dele, temos um subgrupo em vermelho e tem como centro **Marcelo Freixo**;\n",
        "- Os círculos em amarelo nos mostram grupos isolados, cada um com a sua própria liderança e com pouco ou muito pouco relacionamento com o grupo principal;\n",
        "- Dentre eles, se destaca o grupo do **QuebrandoOTabu**, que possui uma grande audiência, porém com quase nenhum relacionamento com o grupo principal.\n",
        "\n",
        "Com o Gephi, podemos passar o mouse em cima dos nós e saber quem é cada um daqueles usuários.\n",
        "\n",
        "Agora cabe a cada profissional, aprofundar suas buscar e extrair as informações detalhadas que julgarem importantes para sua área.\n",
        "\n",
        "Por favor, caso tenha críticas ou melhorias, favor entrar em [contato](https://www.linkedin.com/in/miguel-s-machado/). Toda ajuda sempre será muito bem vinda!"
      ]
    }
  ]
}