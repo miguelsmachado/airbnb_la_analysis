{
  "nbformat": 4,
  "nbformat_minor": 0,
  "metadata": {
    "colab": {
      "name": "Análise de Mídias Sociais (Twitter).ipynb",
      "provenance": [],
      "toc_visible": true,
      "authorship_tag": "ABX9TyMhWXr7TKraLi7+0y5mJIPu",
      "include_colab_link": true
    },
    "kernelspec": {
      "name": "python3",
      "display_name": "Python 3"
    }
  },
  "cells": [
    {
      "cell_type": "markdown",
      "metadata": {
        "id": "view-in-github",
        "colab_type": "text"
      },
      "source": [
        "<a href=\"https://colab.research.google.com/github/miguelsmachado/airbnb_la_analysis/blob/master/An%C3%A1lise_de_M%C3%ADdias_Sociais_(Twitter).ipynb\" target=\"_parent\"><img src=\"https://colab.research.google.com/assets/colab-badge.svg\" alt=\"Open In Colab\"/></a>"
      ]
    },
    {
      "cell_type": "markdown",
      "metadata": {
        "id": "USHWTMvZBp6c",
        "colab_type": "text"
      },
      "source": [
        "####**Análise de Mídias Sociais**\n",
        "*by [Miguel S. Machado](https://www.linkedin.com/in/miguel-machado-6655511a6/)*\n",
        "\n",
        "---\n",
        "\n",
        "# Analisando dados do Twitter - **Covid-19**\n",
        "\n",
        "O estudo a abaixo tem como objetivo mostrar a relevância de um diagrama de relacionamentos para compressão do cenário atual.\n",
        "\n",
        "Vivemos em um mundo onde a tecnologia está em constante desenvolvimento e  presente em todas as atividades que desempenhamos. Com essa evoulução, em um curto período de tempo as pessoas deixaram de ser simples consumidores passivos de informação e começaram a ganhar voz!\n",
        "Hoje qualquer pessoa com um celular na mão pode se tornar um produtor de conteúdo e influenciador de pessoas pela internet.\n",
        "Entender como as pessoas se posiocionam sobre um determinado assunto e quem são os principais ativistas desse assunto é muito importate. Se você é um jornalista, entender um diagrama de relacionamentos irá lhe proporcionar uma visão do todo e não só de um lado da moeda. Se você é um empresario, pode ver quem são os mais ativos e maiores influenciadores em assuntos associados a sua marca. Os usos desse tipo de informação são ilimitados.\n",
        "\n",
        "Chega de conversa e vamos colocar as mãos na massa e entender o diagrama de relacionamentos sobre um dos principais assuntos do momento, infelizmente, o COVID-19.\n",
        "\n",
        "Para realizar esse estudo serão utilizados 3 ferramentas:\n",
        "- A primeira delas é o [FacePager](https://https://github.com/strohne/Facepager), que nos possibilitará a busca de dados no Twitter e criação do nosso arquivo quer irá gerar o nosso DataFrame;\n",
        "- A segunda é a nossa poderosa linguagem de programação: Python. Com algumas bibliotecas fundamentais como Pandas, Matplotlib e Seaborn;\n",
        "- E por último o [Gephi](https://https://gephi.org/users/download/), que será o grande responsável pela criação do diagrama de relacionamentos.\n"
      ]
    },
    {
      "cell_type": "markdown",
      "metadata": {
        "id": "8dU5yb3wIi8e",
        "colab_type": "text"
      },
      "source": [
        "#**Entendendo o FacePager**"
      ]
    },
    {
      "cell_type": "markdown",
      "metadata": {
        "id": "DIWSIxoPIvN4",
        "colab_type": "text"
      },
      "source": [
        "## Definição\n",
        "O FacePager é uma ferramenta OpenSource que possibilita uma busca automatizada em algumas mídias sociais, como Twitter, Facebook e YouTube.\n",
        "\n",
        "No nosso estudo, faremos um busca no Twitter. E para isso precisamos de uma conta para fazer o login (1). Feito o login, temos que criar um database (2). Se você nem sabe o que é, não se preocupe, não irá ultizar! O próximo passo é escolher os *Nodes* (3), que são nada mais nada menos que as palavras chaves. Agora vamos ajustar os padrões de busca (4), e quando tudo estiver conforme o desejado, selecione todos os nós e clique em `Fetch Data`.\n",
        "\n",
        "Agora basta aguardar que os dados sejam coletados para que possamos iniciar o processo de exportação do arquivo *.csv*.\n",
        "\n",
        "Antes de exportarmos, vamos selecionar as colunas que nos importam (5). E, finalmente, selecionar todos os nós e exportar o arquivo *.csv*."
      ]
    },
    {
      "cell_type": "markdown",
      "metadata": {
        "id": "zQJ5HIRiLlmW",
        "colab_type": "text"
      },
      "source": [
        "#**Filtrando os dados com _Python_** "
      ]
    },
    {
      "cell_type": "markdown",
      "metadata": {
        "id": "FybVVjHGMgk0",
        "colab_type": "text"
      },
      "source": [
        "## Importando as bibliotecas\n",
        "Nosso primeiro passo é importar e instalar as bibliotecas que iremos trabalhar"
      ]
    },
    {
      "cell_type": "code",
      "metadata": {
        "id": "wr1y0yYzMp_y",
        "colab_type": "code",
        "colab": {}
      },
      "source": [
        "!pip install wordcloud -q"
      ],
      "execution_count": 0,
      "outputs": []
    },
    {
      "cell_type": "code",
      "metadata": {
        "id": "aFytyiPaMzhn",
        "colab_type": "code",
        "colab": {}
      },
      "source": [
        "import pandas as pd\n",
        "import seaborn as sns\n",
        "import matplotlib.pyplot as plt\n",
        "import numpy as np\n",
        "from PIL import Image\n",
        "from wordcloud import WordCloud, STOPWORDS, ImageColorGenerator"
      ],
      "execution_count": 0,
      "outputs": []
    },
    {
      "cell_type": "markdown",
      "metadata": {
        "id": "MaXJW_sENGCH",
        "colab_type": "text"
      },
      "source": [
        "## Criando o DataFrame e editando as variáveis"
      ]
    },
    {
      "cell_type": "code",
      "metadata": {
        "id": "DwPZeeWjM5TE",
        "colab_type": "code",
        "colab": {}
      },
      "source": [
        "df = pd.read_csv(\"https://raw.githubusercontent.com/miguelsmachado/airbnb_la_analysis/master/covid19.csv\", sep=';')"
      ],
      "execution_count": 0,
      "outputs": []
    },
    {
      "cell_type": "markdown",
      "metadata": {
        "id": "XzzGdSXKOlT4",
        "colab_type": "text"
      },
      "source": [
        "####Visualizando as 5 primeiras linhas do DataFrame"
      ]
    },
    {
      "cell_type": "code",
      "metadata": {
        "id": "gwebvPrNOQOD",
        "colab_type": "code",
        "colab": {
          "base_uri": "https://localhost:8080/",
          "height": 479
        },
        "outputId": "85f3f215-eab6-4600-e51b-1c7091eb9642"
      },
      "source": [
        "df.head()"
      ],
      "execution_count": 6,
      "outputs": [
        {
          "output_type": "execute_result",
          "data": {
            "text/html": [
              "<div>\n",
              "<style scoped>\n",
              "    .dataframe tbody tr th:only-of-type {\n",
              "        vertical-align: middle;\n",
              "    }\n",
              "\n",
              "    .dataframe tbody tr th {\n",
              "        vertical-align: top;\n",
              "    }\n",
              "\n",
              "    .dataframe thead th {\n",
              "        text-align: right;\n",
              "    }\n",
              "</style>\n",
              "<table border=\"1\" class=\"dataframe\">\n",
              "  <thead>\n",
              "    <tr style=\"text-align: right;\">\n",
              "      <th></th>\n",
              "      <th>level</th>\n",
              "      <th>id</th>\n",
              "      <th>parent_id</th>\n",
              "      <th>object_id</th>\n",
              "      <th>object_type</th>\n",
              "      <th>query_status</th>\n",
              "      <th>query_time</th>\n",
              "      <th>query_type</th>\n",
              "      <th>user.screen_name</th>\n",
              "      <th>entities.user_mentions.0.screen_name</th>\n",
              "      <th>id.1</th>\n",
              "      <th>created_at</th>\n",
              "      <th>text</th>\n",
              "      <th>retweeted_status.favorite_count</th>\n",
              "      <th>retweeted_status.retweet_count</th>\n",
              "      <th>user.location</th>\n",
              "      <th>retweeted_status.user.location</th>\n",
              "    </tr>\n",
              "  </thead>\n",
              "  <tbody>\n",
              "    <tr>\n",
              "      <th>0</th>\n",
              "      <td>0</td>\n",
              "      <td>1</td>\n",
              "      <td>None</td>\n",
              "      <td>covid-19</td>\n",
              "      <td>seed</td>\n",
              "      <td>NaN</td>\n",
              "      <td>None</td>\n",
              "      <td>None</td>\n",
              "      <td>NaN</td>\n",
              "      <td>NaN</td>\n",
              "      <td>NaN</td>\n",
              "      <td>NaN</td>\n",
              "      <td>NaN</td>\n",
              "      <td>NaN</td>\n",
              "      <td>NaN</td>\n",
              "      <td>NaN</td>\n",
              "      <td>NaN</td>\n",
              "    </tr>\n",
              "    <tr>\n",
              "      <th>1</th>\n",
              "      <td>1</td>\n",
              "      <td>2</td>\n",
              "      <td>1</td>\n",
              "      <td>1268357934691516417</td>\n",
              "      <td>data</td>\n",
              "      <td>fetched (200)</td>\n",
              "      <td>2020-06-03 22:44:33.196458</td>\n",
              "      <td>Twitter:/search/tweets</td>\n",
              "      <td>camiperdao</td>\n",
              "      <td>brunogagliasso</td>\n",
              "      <td>1.268358e+18</td>\n",
              "      <td>Thu Jun 04 01:44:31 +0000 2020</td>\n",
              "      <td>RT @brunogagliasso: Já que o Ministério da Saú...</td>\n",
              "      <td>1945.0</td>\n",
              "      <td>514.0</td>\n",
              "      <td>Br</td>\n",
              "      <td>Brasil</td>\n",
              "    </tr>\n",
              "    <tr>\n",
              "      <th>2</th>\n",
              "      <td>1</td>\n",
              "      <td>3</td>\n",
              "      <td>1</td>\n",
              "      <td>1268357934171422720</td>\n",
              "      <td>data</td>\n",
              "      <td>fetched (200)</td>\n",
              "      <td>2020-06-03 22:44:33.196458</td>\n",
              "      <td>Twitter:/search/tweets</td>\n",
              "      <td>mhelenaRS</td>\n",
              "      <td>DCM_online</td>\n",
              "      <td>1.268358e+18</td>\n",
              "      <td>Thu Jun 04 01:44:31 +0000 2020</td>\n",
              "      <td>RT @DCM_online: Freixo acusa ministro da Saúde...</td>\n",
              "      <td>15.0</td>\n",
              "      <td>7.0</td>\n",
              "      <td>Rio Grande do Sul, Brasil</td>\n",
              "      <td>Sao Paulo, Brazil</td>\n",
              "    </tr>\n",
              "    <tr>\n",
              "      <th>3</th>\n",
              "      <td>1</td>\n",
              "      <td>4</td>\n",
              "      <td>1</td>\n",
              "      <td>1268357932955172866</td>\n",
              "      <td>data</td>\n",
              "      <td>fetched (200)</td>\n",
              "      <td>2020-06-03 22:44:33.196458</td>\n",
              "      <td>Twitter:/search/tweets</td>\n",
              "      <td>NeoJoao</td>\n",
              "      <td>Sarahteofilo</td>\n",
              "      <td>1.268358e+18</td>\n",
              "      <td>Thu Jun 04 01:44:30 +0000 2020</td>\n",
              "      <td>RT @Sarahteofilo: Boletim 3/6 Em 24 horas, for...</td>\n",
              "      <td>2.0</td>\n",
              "      <td>3.0</td>\n",
              "      <td>Goiânia Rock City</td>\n",
              "      <td>Brasília</td>\n",
              "    </tr>\n",
              "    <tr>\n",
              "      <th>4</th>\n",
              "      <td>1</td>\n",
              "      <td>5</td>\n",
              "      <td>1</td>\n",
              "      <td>1268357929754857472</td>\n",
              "      <td>data</td>\n",
              "      <td>fetched (200)</td>\n",
              "      <td>2020-06-03 22:44:33.196458</td>\n",
              "      <td>Twitter:/search/tweets</td>\n",
              "      <td>jvieiraleonardo</td>\n",
              "      <td>brunogagliasso</td>\n",
              "      <td>1.268358e+18</td>\n",
              "      <td>Thu Jun 04 01:44:30 +0000 2020</td>\n",
              "      <td>RT @brunogagliasso: Já que o Ministério da Saú...</td>\n",
              "      <td>1945.0</td>\n",
              "      <td>514.0</td>\n",
              "      <td>NaN</td>\n",
              "      <td>Brasil</td>\n",
              "    </tr>\n",
              "  </tbody>\n",
              "</table>\n",
              "</div>"
            ],
            "text/plain": [
              "   level  id  ...              user.location retweeted_status.user.location\n",
              "0      0   1  ...                        NaN                            NaN\n",
              "1      1   2  ...                         Br                         Brasil\n",
              "2      1   3  ...  Rio Grande do Sul, Brasil              Sao Paulo, Brazil\n",
              "3      1   4  ...          Goiânia Rock City                       Brasília\n",
              "4      1   5  ...                        NaN                         Brasil\n",
              "\n",
              "[5 rows x 17 columns]"
            ]
          },
          "metadata": {
            "tags": []
          },
          "execution_count": 6
        }
      ]
    },
    {
      "cell_type": "markdown",
      "metadata": {
        "id": "IY2d_9nlPJHp",
        "colab_type": "text"
      },
      "source": [
        "#### Filtrando os dados para o Gephi"
      ]
    },
    {
      "cell_type": "code",
      "metadata": {
        "id": "WbuFIrgpOaoH",
        "colab_type": "code",
        "colab": {}
      },
      "source": [
        "# De todas as colunas que recebemos no CSV original, só algumas nos interessam\n",
        "# O primeiro passo é filtra-las.\n",
        "df = df[['user.screen_name', 'entities.user_mentions.0.screen_name', 'object_id',\n",
        "         'created_at', 'text', 'retweeted_status.retweet_count', 'user.location']]\n",
        "\n",
        "# Agora vamos renomear as colunas para que fiquem mais fácil para nosso trabalho\n",
        "# e entendimento do Gephi\n",
        "df.columns = ['source', 'target', 'object_id', 'created_at', 'tweet_text', \n",
        "              'retweet_count', 'user.location']\n",
        "\n",
        "# Como nosso estudo é focado em relacionamentos, não faz sentido com dados que \n",
        "# estão desconectados, ou seja, que não retwittes. As postagens que não são \n",
        "# retwittes recebem um valor NaN em sua coluna do retweet_count, que podem \n",
        "# facilmente ser excluidas com o comando abaixo\n",
        "df = df.dropna()"
      ],
      "execution_count": 0,
      "outputs": []
    },
    {
      "cell_type": "markdown",
      "metadata": {
        "id": "Raq1GYdZTKE7",
        "colab_type": "text"
      },
      "source": [
        "#### Visualizando as 5 primeiras linhas do dado filtrado"
      ]
    },
    {
      "cell_type": "code",
      "metadata": {
        "id": "c52nnwp-Q4xI",
        "colab_type": "code",
        "colab": {
          "base_uri": "https://localhost:8080/",
          "height": 408
        },
        "outputId": "6f38b836-97c9-4ad5-8219-f61160e9edf8"
      },
      "source": [
        "print(f\"O DataFrame possui {df.shape[0]} twetts\")\n",
        "print()\n",
        "df.head()\n"
      ],
      "execution_count": 16,
      "outputs": [
        {
          "output_type": "stream",
          "text": [
            "O DataFrame possui 9882 twetts\n",
            "\n"
          ],
          "name": "stdout"
        },
        {
          "output_type": "execute_result",
          "data": {
            "text/html": [
              "<div>\n",
              "<style scoped>\n",
              "    .dataframe tbody tr th:only-of-type {\n",
              "        vertical-align: middle;\n",
              "    }\n",
              "\n",
              "    .dataframe tbody tr th {\n",
              "        vertical-align: top;\n",
              "    }\n",
              "\n",
              "    .dataframe thead th {\n",
              "        text-align: right;\n",
              "    }\n",
              "</style>\n",
              "<table border=\"1\" class=\"dataframe\">\n",
              "  <thead>\n",
              "    <tr style=\"text-align: right;\">\n",
              "      <th></th>\n",
              "      <th>source</th>\n",
              "      <th>target</th>\n",
              "      <th>object_id</th>\n",
              "      <th>created_at</th>\n",
              "      <th>tweet_text</th>\n",
              "      <th>retweet_count</th>\n",
              "      <th>user.location</th>\n",
              "    </tr>\n",
              "  </thead>\n",
              "  <tbody>\n",
              "    <tr>\n",
              "      <th>1</th>\n",
              "      <td>camiperdao</td>\n",
              "      <td>brunogagliasso</td>\n",
              "      <td>1268357934691516417</td>\n",
              "      <td>Thu Jun 04 01:44:31 +0000 2020</td>\n",
              "      <td>RT @brunogagliasso: Já que o Ministério da Saú...</td>\n",
              "      <td>514.0</td>\n",
              "      <td>Br</td>\n",
              "    </tr>\n",
              "    <tr>\n",
              "      <th>2</th>\n",
              "      <td>mhelenaRS</td>\n",
              "      <td>DCM_online</td>\n",
              "      <td>1268357934171422720</td>\n",
              "      <td>Thu Jun 04 01:44:31 +0000 2020</td>\n",
              "      <td>RT @DCM_online: Freixo acusa ministro da Saúde...</td>\n",
              "      <td>7.0</td>\n",
              "      <td>Rio Grande do Sul, Brasil</td>\n",
              "    </tr>\n",
              "    <tr>\n",
              "      <th>3</th>\n",
              "      <td>NeoJoao</td>\n",
              "      <td>Sarahteofilo</td>\n",
              "      <td>1268357932955172866</td>\n",
              "      <td>Thu Jun 04 01:44:30 +0000 2020</td>\n",
              "      <td>RT @Sarahteofilo: Boletim 3/6 Em 24 horas, for...</td>\n",
              "      <td>3.0</td>\n",
              "      <td>Goiânia Rock City</td>\n",
              "    </tr>\n",
              "    <tr>\n",
              "      <th>5</th>\n",
              "      <td>cbxxss</td>\n",
              "      <td>WendelBrasilSP</td>\n",
              "      <td>1268357929587167234</td>\n",
              "      <td>Thu Jun 04 01:44:30 +0000 2020</td>\n",
              "      <td>RT @WendelBrasilSP: O q mídia progressista não...</td>\n",
              "      <td>28.0</td>\n",
              "      <td>Brasil</td>\n",
              "    </tr>\n",
              "    <tr>\n",
              "      <th>6</th>\n",
              "      <td>claudia20653209</td>\n",
              "      <td>RubensNunesMBL</td>\n",
              "      <td>1268357928702095366</td>\n",
              "      <td>Thu Jun 04 01:44:29 +0000 2020</td>\n",
              "      <td>RT @RubensNunesMBL: Infelizmente o Brasil queb...</td>\n",
              "      <td>2.0</td>\n",
              "      <td>Niterói, Brasil</td>\n",
              "    </tr>\n",
              "  </tbody>\n",
              "</table>\n",
              "</div>"
            ],
            "text/plain": [
              "            source          target  ... retweet_count              user.location\n",
              "1       camiperdao  brunogagliasso  ...         514.0                         Br\n",
              "2        mhelenaRS      DCM_online  ...           7.0  Rio Grande do Sul, Brasil\n",
              "3          NeoJoao    Sarahteofilo  ...           3.0          Goiânia Rock City\n",
              "5           cbxxss  WendelBrasilSP  ...          28.0                     Brasil\n",
              "6  claudia20653209  RubensNunesMBL  ...           2.0            Niterói, Brasil\n",
              "\n",
              "[5 rows x 7 columns]"
            ]
          },
          "metadata": {
            "tags": []
          },
          "execution_count": 16
        }
      ]
    },
    {
      "cell_type": "markdown",
      "metadata": {
        "id": "Ed2NrARYTszj",
        "colab_type": "text"
      },
      "source": [
        "#### Criando a coluna URL\n",
        "\n",
        "Para que facilitar nossa analise, vamos criar uma nova coluna, manipulando alguns dados do nosso DataFrame e inserir o url do post que gerou o retweet."
      ]
    },
    {
      "cell_type": "code",
      "metadata": {
        "id": "zN1HHFLxQ7RI",
        "colab_type": "code",
        "colab": {}
      },
      "source": [
        "for index, row in df.iterrows():\n",
        "  df.loc[index, 'url'] = 'https://twitter.com/'+str(row['target'])+'/status/'+str(row['object_id'])"
      ],
      "execution_count": 0,
      "outputs": []
    },
    {
      "cell_type": "code",
      "metadata": {
        "id": "wk0B6BpSUGDC",
        "colab_type": "code",
        "colab": {
          "base_uri": "https://localhost:8080/",
          "height": 119
        },
        "outputId": "f72dd877-24ee-4af9-8b14-6faa8d20c150"
      },
      "source": [
        "df.url.head()"
      ],
      "execution_count": 20,
      "outputs": [
        {
          "output_type": "execute_result",
          "data": {
            "text/plain": [
              "1    https://twitter.com/brunogagliasso/status/1268...\n",
              "2    https://twitter.com/DCM_online/status/12683579...\n",
              "3    https://twitter.com/Sarahteofilo/status/126835...\n",
              "5    https://twitter.com/WendelBrasilSP/status/1268...\n",
              "6    https://twitter.com/RubensNunesMBL/status/1268...\n",
              "Name: url, dtype: object"
            ]
          },
          "metadata": {
            "tags": []
          },
          "execution_count": 20
        }
      ]
    },
    {
      "cell_type": "markdown",
      "metadata": {
        "id": "McFTE6rHUjOf",
        "colab_type": "text"
      },
      "source": [
        "####Exportando o arquivo .csv"
      ]
    },
    {
      "cell_type": "code",
      "metadata": {
        "id": "9vkTbnpyUpCO",
        "colab_type": "code",
        "colab": {}
      },
      "source": [
        "df.to_csv('data_gephi.csv', index=False)"
      ],
      "execution_count": 0,
      "outputs": []
    },
    {
      "cell_type": "markdown",
      "metadata": {
        "id": "ZnxFt7SlVBKR",
        "colab_type": "text"
      },
      "source": [
        "##### **Com essa exportação, nosso arquivo esta pronto.**\n",
        "\n",
        "Porém vamos utilizar algumas ferramentas que o python nos oferece para ver se existe algo que possa ser adicionado a busca do FacePager de forma a enriquecer nosso DataFrame"
      ]
    },
    {
      "cell_type": "markdown",
      "metadata": {
        "id": "K-w2YEoLVfc_",
        "colab_type": "text"
      },
      "source": [
        "##**Refinando os parâmetros de busca**"
      ]
    },
    {
      "cell_type": "markdown",
      "metadata": {
        "id": "cHDhnBrQVz9c",
        "colab_type": "text"
      },
      "source": [
        "### Criando a lista das palavras mais utilizadas"
      ]
    },
    {
      "cell_type": "code",
      "metadata": {
        "id": "FLvnawy3U4hx",
        "colab_type": "code",
        "colab": {}
      },
      "source": [
        ""
      ],
      "execution_count": 0,
      "outputs": []
    }
  ]
}